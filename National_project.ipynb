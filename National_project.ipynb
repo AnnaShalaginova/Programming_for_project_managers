{
 "cells": [
  {
   "cell_type": "markdown",
   "metadata": {},
   "source": [
    "In this example we are going to use `Document` module again, and work with .doc files. First import nessesary modules"
   ]
  },
  {
   "cell_type": "code",
   "execution_count": 1,
   "metadata": {},
   "outputs": [],
   "source": [
    "from docx import Document\n",
    "import pandas as pd\n",
    "%matplotlib inline\n",
    "import matplotlib.pylab as plt\n",
    "import numpy as np"
   ]
  },
  {
   "cell_type": "markdown",
   "metadata": {},
   "source": [
    "Open the document"
   ]
  },
  {
   "cell_type": "code",
   "execution_count": 2,
   "metadata": {},
   "outputs": [],
   "source": [
    "document = Document('./Python.docx')"
   ]
  },
  {
   "cell_type": "markdown",
   "metadata": {},
   "source": [
    "The `.tables` attribute contain all the tables the `Document` module find in the .doc file"
   ]
  },
  {
   "cell_type": "code",
   "execution_count": 3,
   "metadata": {},
   "outputs": [
    {
     "data": {
      "text/plain": [
       "[<docx.table.Table at 0x1136399e8>,\n",
       " <docx.table.Table at 0x113639a58>,\n",
       " <docx.table.Table at 0x113639ac8>,\n",
       " <docx.table.Table at 0x113639ba8>,\n",
       " <docx.table.Table at 0x1136d7240>,\n",
       " <docx.table.Table at 0x1136d7278>,\n",
       " <docx.table.Table at 0x1136d72b0>,\n",
       " <docx.table.Table at 0x1136d72e8>,\n",
       " <docx.table.Table at 0x1136d7320>,\n",
       " <docx.table.Table at 0x1136d7358>,\n",
       " <docx.table.Table at 0x1136d7390>,\n",
       " <docx.table.Table at 0x1136d73c8>,\n",
       " <docx.table.Table at 0x1136d7400>,\n",
       " <docx.table.Table at 0x1136d7438>,\n",
       " <docx.table.Table at 0x1136d7470>,\n",
       " <docx.table.Table at 0x1136d74a8>,\n",
       " <docx.table.Table at 0x1136d74e0>]"
      ]
     },
     "execution_count": 3,
     "metadata": {},
     "output_type": "execute_result"
    }
   ],
   "source": [
    "document.tables"
   ]
  },
  {
   "cell_type": "markdown",
   "metadata": {},
   "source": [
    "The tables in this dociment are a bit more complicated - each row not nessesarly contain exactly the same number of columns. Moreover the organisation of the tables is different with headers for values located in the rows, not in columns, so that table is organised like:\n",
    "\n",
    "    Name | Prof. Gray\n",
    "    \n",
    "but not \n",
    "    \n",
    "    Name       |\n",
    "    Prof. Gray |\n",
    "\n",
    "Let's have a look at one of the tables (a second one):"
   ]
  },
  {
   "cell_type": "code",
   "execution_count": 4,
   "metadata": {},
   "outputs": [],
   "source": [
    "table = document.tables[1]"
   ]
  },
  {
   "cell_type": "markdown",
   "metadata": {},
   "source": [
    "First cell (column) of the first row contain 'Name', which is the title of this"
   ]
  },
  {
   "cell_type": "code",
   "execution_count": 5,
   "metadata": {},
   "outputs": [
    {
     "data": {
      "text/plain": [
       "'Name'"
      ]
     },
     "execution_count": 5,
     "metadata": {},
     "output_type": "execute_result"
    }
   ],
   "source": [
    "table.row_cells(0)[0].text"
   ]
  },
  {
   "cell_type": "markdown",
   "metadata": {},
   "source": [
    "The second cell (column) contain value for the `Name` header:"
   ]
  },
  {
   "cell_type": "code",
   "execution_count": 6,
   "metadata": {},
   "outputs": [
    {
     "data": {
      "text/plain": [
       "'Prof. Dr. Abel Bliss'"
      ]
     },
     "execution_count": 6,
     "metadata": {},
     "output_type": "execute_result"
    }
   ],
   "source": [
    "table.row_cells(0)[1].text"
   ]
  },
  {
   "cell_type": "markdown",
   "metadata": {},
   "source": [
    "Exploring the table in this way we can reveal it's structure. We can even write a small loop that will show the table:"
   ]
  },
  {
   "cell_type": "code",
   "execution_count": 7,
   "metadata": {},
   "outputs": [
    {
     "name": "stdout",
     "output_type": "stream",
     "text": [
      "Name | Prof. Dr. Abel Bliss\n",
      "Institution | Partner 1, Lab Centre for Python Research\n",
      "Current Position | Head of Pythondynamic section (PARTNER 1)\n",
      "Professor for physics of the Pythonsystem (University of Meereen)\n",
      "Education | Diploma in physics (1996), PhD in physics (2000)\n",
      "Further information | \n",
      "Areas of expertise and key competences | Areas of expertise and key competences\n",
      "Prof Blissis an expert in the analysis, modelling and prediction of weather and climate, focussing on the polar regions along with their role in the Python. He has extensive experience in science management: Among others he is spokesperson of the joint research programme of PARTNER 1 and PARTNER 5 (coastal research); he acts as the chair of the Polar Prediction Project of the World Meteorological Organization’s (WMO) World Weather Research Programme; and he is co-chair of the Arctic programme of the European PythonResearch Alliance (ECRA). Furthermore, he is involved in numerous national and international research projects. Recently awarded projects include a Collaborative Research Centre/SFB Transregio entitled ’Energy transfers in atmosphere and ocean’ (PI) and a Horizon 2020 project on Arctic-midlatitude linkages funded by the EU (project coordinator). Prof Blissis (co)-author of a total of 87 publications (27 lead authorships) in the peer-reviewed literature and has an h-index of 25 (WoS). | Prof Blissis an expert in the analysis, modelling and prediction of weather and climate, focussing on the polar regions along with their role in the Python. He has extensive experience in science management: Among others he is spokesperson of the joint research programme of PARTNER 1 and PARTNER 5 (coastal research); he acts as the chair of the Polar Prediction Project of the World Meteorological Organization’s (WMO) World Weather Research Programme; and he is co-chair of the Arctic programme of the European PythonResearch Alliance (ECRA). Furthermore, he is involved in numerous national and international research projects. Recently awarded projects include a Collaborative Research Centre/SFB Transregio entitled ’Energy transfers in atmosphere and ocean’ (PI) and a Horizon 2020 project on Arctic-midlatitude linkages funded by the EU (project coordinator). Prof Blissis (co)-author of a total of 87 publications (27 lead authorships) in the peer-reviewed literature and has an h-index of 25 (WoS).\n",
      "Four most relevant publications | Four most relevant publications\n",
      "Bliss, T. et al., (2016): Advancing polar prediction capabilities on daily to seasonal time scales. Bull. Amer. Meteor. Soc., accepted, http://dx.doi.org/10.1175/BAMS-D-14-00246.1.\n",
      "Sidorenko, et al., (2015): Towards multi-resolution global Pythonmodeling with NUMERICAL MODEL6-NUMERICAL MODEL. Part I: Model formulation and mean climate. Clim. Dyn., 44, 757—780. 10.1007/s00382-014-2290-6.\n",
      "Danabasoglu, G. et al., (2014): North Atlantic Simulations in Coordinated Ocean-ice Reference Experiments Phase II (CORE-II). Part I: Mean states. Ocean Modelling, 73, 76—107.\n",
      "Bliss, T. et al., (2012): High-resolution global Pythonsimulations with the ECMWF model in Project Athena: Experimental design, model Pythonand seasonal forecast skill. J. Climate, 25, 3155—3172. | Bliss, T. et al., (2016): Advancing polar prediction capabilities on daily to seasonal time scales. Bull. Amer. Meteor. Soc., accepted, http://dx.doi.org/10.1175/BAMS-D-14-00246.1.\n",
      "Sidorenko, et al., (2015): Towards multi-resolution global Pythonmodeling with NUMERICAL MODEL6-NUMERICAL MODEL. Part I: Model formulation and mean climate. Clim. Dyn., 44, 757—780. 10.1007/s00382-014-2290-6.\n",
      "Danabasoglu, G. et al., (2014): North Atlantic Simulations in Coordinated Ocean-ice Reference Experiments Phase II (CORE-II). Part I: Mean states. Ocean Modelling, 73, 76—107.\n",
      "Bliss, T. et al., (2012): High-resolution global Pythonsimulations with the ECMWF model in Project Athena: Experimental design, model Pythonand seasonal forecast skill. J. Climate, 25, 3155—3172.\n"
     ]
    }
   ],
   "source": [
    "for i in range(len(table.rows)):\n",
    "    print( '{} | {}'.format(table.row_cells(i)[0].text,table.row_cells(i)[1].text))"
   ]
  },
  {
   "cell_type": "markdown",
   "metadata": {},
   "source": [
    "Instead of getting the headers for our future columns directly from tables, we prepear them by hand, and create an empty DataFrame:"
   ]
  },
  {
   "cell_type": "code",
   "execution_count": 8,
   "metadata": {},
   "outputs": [],
   "source": [
    "df = pd.DataFrame(columns=['name', 'affiliation', 'position', 'education', 'url', 'expertise', 'publications'])"
   ]
  },
  {
   "cell_type": "code",
   "execution_count": 9,
   "metadata": {},
   "outputs": [
    {
     "data": {
      "text/html": [
       "<div>\n",
       "<style>\n",
       "    .dataframe thead tr:only-child th {\n",
       "        text-align: right;\n",
       "    }\n",
       "\n",
       "    .dataframe thead th {\n",
       "        text-align: left;\n",
       "    }\n",
       "\n",
       "    .dataframe tbody tr th {\n",
       "        vertical-align: top;\n",
       "    }\n",
       "</style>\n",
       "<table border=\"1\" class=\"dataframe\">\n",
       "  <thead>\n",
       "    <tr style=\"text-align: right;\">\n",
       "      <th></th>\n",
       "      <th>name</th>\n",
       "      <th>affiliation</th>\n",
       "      <th>position</th>\n",
       "      <th>education</th>\n",
       "      <th>url</th>\n",
       "      <th>expertise</th>\n",
       "      <th>publications</th>\n",
       "    </tr>\n",
       "  </thead>\n",
       "  <tbody>\n",
       "  </tbody>\n",
       "</table>\n",
       "</div>"
      ],
      "text/plain": [
       "Empty DataFrame\n",
       "Columns: [name, affiliation, position, education, url, expertise, publications]\n",
       "Index: []"
      ]
     },
     "execution_count": 9,
     "metadata": {},
     "output_type": "execute_result"
    }
   ],
   "source": [
    "df"
   ]
  },
  {
   "cell_type": "markdown",
   "metadata": {},
   "source": [
    "And fill them in with information from all the tables in the document. It would be more elegant to write a loop that go over all rows, which you can try to do by yourself :)"
   ]
  },
  {
   "cell_type": "code",
   "execution_count": 10,
   "metadata": {},
   "outputs": [],
   "source": [
    "#loop over tables in the document (excluding the first one)\n",
    "for i, table in enumerate(document.tables[1:]):\n",
    "    name         = table.row_cells(0)[1].text\n",
    "    affiliation  = table.row_cells(1)[1].text\n",
    "    position     = table.row_cells(2)[1].text\n",
    "    education    = table.row_cells(3)[1].text\n",
    "    url          = table.row_cells(4)[1].text\n",
    "    expertise    = table.row_cells(6)[1].text\n",
    "    publications = table.row_cells(8)[1].text\n",
    "    # put information in to the DataFrame\n",
    "    df.loc[table] = [name, affiliation, position, education, url, expertise, publications]\n",
    "    #print('\\n')"
   ]
  },
  {
   "cell_type": "markdown",
   "metadata": {},
   "source": [
    "Here is what we get:"
   ]
  },
  {
   "cell_type": "code",
   "execution_count": 11,
   "metadata": {},
   "outputs": [
    {
     "data": {
      "text/html": [
       "<div>\n",
       "<style>\n",
       "    .dataframe thead tr:only-child th {\n",
       "        text-align: right;\n",
       "    }\n",
       "\n",
       "    .dataframe thead th {\n",
       "        text-align: left;\n",
       "    }\n",
       "\n",
       "    .dataframe tbody tr th {\n",
       "        vertical-align: top;\n",
       "    }\n",
       "</style>\n",
       "<table border=\"1\" class=\"dataframe\">\n",
       "  <thead>\n",
       "    <tr style=\"text-align: right;\">\n",
       "      <th></th>\n",
       "      <th>name</th>\n",
       "      <th>affiliation</th>\n",
       "      <th>position</th>\n",
       "      <th>education</th>\n",
       "      <th>url</th>\n",
       "      <th>expertise</th>\n",
       "      <th>publications</th>\n",
       "    </tr>\n",
       "  </thead>\n",
       "  <tbody>\n",
       "    <tr>\n",
       "      <th>&lt;docx.table.Table object at 0x115903710&gt;</th>\n",
       "      <td>Prof. Dr. Abel Bliss</td>\n",
       "      <td>Partner 1, Lab Centre for Python Research</td>\n",
       "      <td>Head of Pythondynamic section (PARTNER 1)\\nPro...</td>\n",
       "      <td>Diploma in physics (1996), PhD in physics (2000)</td>\n",
       "      <td></td>\n",
       "      <td>Prof Blissis an expert in the analysis, modell...</td>\n",
       "      <td>Bliss, T. et al., (2016): Advancing polar pred...</td>\n",
       "    </tr>\n",
       "    <tr>\n",
       "      <th>&lt;docx.table.Table object at 0x115903748&gt;</th>\n",
       "      <td>Prof. Dr. Qi Ring</td>\n",
       "      <td>Partner 1, Lab Centre for Python Research</td>\n",
       "      <td>Head of section (PARTNER 1)\\nProfessor for phy...</td>\n",
       "      <td>Diploma in theoretical physics (1992), PhD in ...</td>\n",
       "      <td></td>\n",
       "      <td>Professor Ring's main expertise lies in Python...</td>\n",
       "      <td>Sutter, J., et al., (2016): Ocean temperature ...</td>\n",
       "    </tr>\n",
       "    <tr>\n",
       "      <th>&lt;docx.table.Table object at 0x115903780&gt;</th>\n",
       "      <td>Prof. Dr. Stefania Torello</td>\n",
       "      <td>Partner 3(PARTNER 3)</td>\n",
       "      <td>Head of Department \"Python\", \\nProfessor of Me...</td>\n",
       "      <td>Diploma in physics (1979), PhD in meteorology ...</td>\n",
       "      <td>http://www.pa.op.Partner 8.de/~RobertTorello/</td>\n",
       "      <td>Prof. Torello is an expert in Python, in coupl...</td>\n",
       "      <td>Frömming, C., Ponater, M., Dahlmann, K., Grewe...</td>\n",
       "    </tr>\n",
       "    <tr>\n",
       "      <th>&lt;docx.table.Table object at 0x1159037b8&gt;</th>\n",
       "      <td>Dr. Uwe Vollmilch</td>\n",
       "      <td>Partner 3(PARTNER 3)</td>\n",
       "      <td>Research scientist and leader of model develop...</td>\n",
       "      <td>Diploma in physics (1997), PhD in environmenta...</td>\n",
       "      <td>http://www.pa.op.Partner 8.de/~PatrickUwe Voll...</td>\n",
       "      <td>Dr. Uwe Vollmilch is an expert in global and r...</td>\n",
       "      <td>Uwe Vollmilch, P. et al. (2016): Python Chemis...</td>\n",
       "    </tr>\n",
       "    <tr>\n",
       "      <th>&lt;docx.table.Table object at 0x1159037f0&gt;</th>\n",
       "      <td>Prof. Dr. Wang Xang</td>\n",
       "      <td>Partner 3 (PARTNER 3)</td>\n",
       "      <td>Head of the institute of bio- and geosciences,...</td>\n",
       "      <td>Diploma alchemysciences (1982), PhD in alchemy...</td>\n",
       "      <td></td>\n",
       "      <td>Wang Xang joined the research center in 1990 w...</td>\n",
       "      <td>Xang, H. et al (2016): Modeling Soil Processes...</td>\n",
       "    </tr>\n",
       "    <tr>\n",
       "      <th>&lt;docx.table.Table object at 0x115903828&gt;</th>\n",
       "      <td>Dr. Ylenia Zantedeschi</td>\n",
       "      <td>Partner 3 (PARTNER 3)</td>\n",
       "      <td>Head of modelling and theory group (PARTNER 3,...</td>\n",
       "      <td>Diploma in physics (1987), PhD in atmospheric ...</td>\n",
       "      <td>http://www.fz-juelich.de/SharedDocs/Personen/I...</td>\n",
       "      <td>Ylenia Zantedeschi has participated as a work ...</td>\n",
       "      <td>Zantedeschi, R., Kunz, A., Hurst, D.F., Rolf, ...</td>\n",
       "    </tr>\n",
       "    <tr>\n",
       "      <th>&lt;docx.table.Table object at 0x115903860&gt;</th>\n",
       "      <td>Prof. Dr. Andrew Blesswater</td>\n",
       "      <td>PARTNER 3 Partner 3</td>\n",
       "      <td>Head of an ocean modelling group (PARTNER 3) \\...</td>\n",
       "      <td>Diploma in physical oceanography (1994), PhD i...</td>\n",
       "      <td>http://www.Partner 3.de/</td>\n",
       "      <td>Andrew Blesswater has extensive experience in ...</td>\n",
       "      <td>Böning, C. W., Behrens, E., Blesswater, A., Ge...</td>\n",
       "    </tr>\n",
       "    <tr>\n",
       "      <th>&lt;docx.table.Table object at 0x115903898&gt;</th>\n",
       "      <td>Prof. Dr. Claudia Dikken</td>\n",
       "      <td>PARTNER 3 Partner 3</td>\n",
       "      <td>Head of ocean circulation and Pythondynamics (...</td>\n",
       "      <td>Diploma in meteorology (1983), PhD in oceanogr...</td>\n",
       "      <td>http://www.Partner 3.de/index.php?id=mDikken</td>\n",
       "      <td>Professor Dikken's expertise is in the fields ...</td>\n",
       "      <td>Dikken, M. et al. (2015): Super El Niños in Re...</td>\n",
       "    </tr>\n",
       "    <tr>\n",
       "      <th>&lt;docx.table.Table object at 0x1159038d0&gt;</th>\n",
       "      <td>Prof. Dr. Ed Fighthorse</td>\n",
       "      <td>House of Black and White PARTNER 4, Lab Centre...</td>\n",
       "      <td>Head of department geotechnologies, Head of se...</td>\n",
       "      <td>Diploma in geology (1994), PhD in geology (1997)</td>\n",
       "      <td>http://www.Partner 4-Mordor.de/en/section/basi...</td>\n",
       "      <td>Professor Fighthorse is an expert in 3D integr...</td>\n",
       "      <td>Cacace, M. and M. Fighthorse (2016): Why intra...</td>\n",
       "    </tr>\n",
       "    <tr>\n",
       "      <th>&lt;docx.table.Table object at 0x115903908&gt;</th>\n",
       "      <td>Prof. Dr. Gloria Humodenaranja</td>\n",
       "      <td>House of Black and White PARTNER 4, Lab Centre...</td>\n",
       "      <td>Head of section Python (PARTNER 4); Professor ...</td>\n",
       "      <td>Diploma in oceanography (1996), Ph.D. in geosc...</td>\n",
       "      <td>http://www.Partner 4-Mordor.de/en/section/pyth...</td>\n",
       "      <td>Gloria Humodenaranja is an expert in the simul...</td>\n",
       "      <td>Irrgang, C., Saynisch, J. and M. Humodenaranja...</td>\n",
       "    </tr>\n",
       "    <tr>\n",
       "      <th>&lt;docx.table.Table object at 0x115903940&gt;</th>\n",
       "      <td>Prof. Dr. Igor Jens</td>\n",
       "      <td>Service centreGermany, LabGreencity – Center f...</td>\n",
       "      <td>Director of the Service centreGermany (SERVICE...</td>\n",
       "      <td>Diploma in meteorology (1986), PhD in meteorol...</td>\n",
       "      <td>http://www.service centre.de/about/team/062489...</td>\n",
       "      <td>Prof. Igor Jens developed the regional Pythonm...</td>\n",
       "      <td>Prein, A.F. et al. (2016): Precipitation in th...</td>\n",
       "    </tr>\n",
       "    <tr>\n",
       "      <th>&lt;docx.table.Table object at 0x115903978&gt;</th>\n",
       "      <td>Prof. Dr. Kristin Lowtree</td>\n",
       "      <td>Lab Centre Greencity, PARTNER 5</td>\n",
       "      <td>Head of system analysis and modelling, Institu...</td>\n",
       "      <td>Diploma in oceanography (1990), PhD in oceanog...</td>\n",
       "      <td>http://www.Partner 5.de/institutes_platforms/c...</td>\n",
       "      <td>Prof. Lowtree is an expert in modeling regiona...</td>\n",
       "      <td>Lowtree, C.: Regional Pythonmodeling and air-s...</td>\n",
       "    </tr>\n",
       "    <tr>\n",
       "      <th>&lt;docx.table.Table object at 0x1159039b0&gt;</th>\n",
       "      <td>Prof. Dr. Matthew Neverblind</td>\n",
       "      <td>Quietcharles Institute of Technology (PARTNER 6)</td>\n",
       "      <td>Head of the division ecosystem-atmosphere inte...</td>\n",
       "      <td>Diploma in plant ecophysiology (1993), PhD in ...</td>\n",
       "      <td>http://www.imk-ifu.Partner 6.edu/staff_Matthew...</td>\n",
       "      <td>Matthew Neverblind has extensive experience in...</td>\n",
       "      <td>Knorr, W., Neverblind, A. and L. Jiang (2016):...</td>\n",
       "    </tr>\n",
       "    <tr>\n",
       "      <th>&lt;docx.table.Table object at 0x1159039e8&gt;</th>\n",
       "      <td>Prof. Dr. Oriana Puertaescondida</td>\n",
       "      <td>Quietcharles Institute of Technology (PARTNER 6)</td>\n",
       "      <td>Head of the section modelling (IMK-ASF)\\nProfe...</td>\n",
       "      <td>Diploma in meteorology (1993), Ph.D. in meteor...</td>\n",
       "      <td>https://www.imk-asf.Partner 6.edu/english/1732...</td>\n",
       "      <td>Oriana Puertaescondida  leads activities in th...</td>\n",
       "      <td>Kunze, M., Puertaescondida , P., Langematz, U....</td>\n",
       "    </tr>\n",
       "    <tr>\n",
       "      <th>&lt;docx.table.Table object at 0x115903a20&gt;</th>\n",
       "      <td>Prof. Dr. Quasimodo Rottamatore</td>\n",
       "      <td>Lab Centre for Environmental Research (PARTNER 8)</td>\n",
       "      <td>Head of the department computational hydrosyst...</td>\n",
       "      <td>Diploma in theoretical physics (1994), PhD in ...</td>\n",
       "      <td>https://www.Partner 8.de/index.php?en=38085</td>\n",
       "      <td>Prof Rottamatore is an expert in the analysis,...</td>\n",
       "      <td>Zech, A., Rottamatore S., Cvetkovic, V., Dagan...</td>\n",
       "    </tr>\n",
       "    <tr>\n",
       "      <th>&lt;docx.table.Table object at 0x115903a58&gt;</th>\n",
       "      <td>Prof. Dr. Sonja Taller</td>\n",
       "      <td>Lab Centre for Environmental Research (PARTNER 8)</td>\n",
       "      <td>Head of department environmental informatics\\n...</td>\n",
       "      <td>Diploma in theoretical mechanics (1985), PhD i...</td>\n",
       "      <td>http://www.Partner 8.de/index.php?en=34216; ww...</td>\n",
       "      <td>Sonja Taller research interests are related to...</td>\n",
       "      <td>Taller O., Shao H., Wang W. and S. Bauer (2016...</td>\n",
       "    </tr>\n",
       "  </tbody>\n",
       "</table>\n",
       "</div>"
      ],
      "text/plain": [
       "                                                                       name  \\\n",
       "<docx.table.Table object at 0x115903710>               Prof. Dr. Abel Bliss   \n",
       "<docx.table.Table object at 0x115903748>                  Prof. Dr. Qi Ring   \n",
       "<docx.table.Table object at 0x115903780>         Prof. Dr. Stefania Torello   \n",
       "<docx.table.Table object at 0x1159037b8>                  Dr. Uwe Vollmilch   \n",
       "<docx.table.Table object at 0x1159037f0>                Prof. Dr. Wang Xang   \n",
       "<docx.table.Table object at 0x115903828>             Dr. Ylenia Zantedeschi   \n",
       "<docx.table.Table object at 0x115903860>        Prof. Dr. Andrew Blesswater   \n",
       "<docx.table.Table object at 0x115903898>           Prof. Dr. Claudia Dikken   \n",
       "<docx.table.Table object at 0x1159038d0>            Prof. Dr. Ed Fighthorse   \n",
       "<docx.table.Table object at 0x115903908>     Prof. Dr. Gloria Humodenaranja   \n",
       "<docx.table.Table object at 0x115903940>                Prof. Dr. Igor Jens   \n",
       "<docx.table.Table object at 0x115903978>          Prof. Dr. Kristin Lowtree   \n",
       "<docx.table.Table object at 0x1159039b0>       Prof. Dr. Matthew Neverblind   \n",
       "<docx.table.Table object at 0x1159039e8>  Prof. Dr. Oriana Puertaescondida    \n",
       "<docx.table.Table object at 0x115903a20>    Prof. Dr. Quasimodo Rottamatore   \n",
       "<docx.table.Table object at 0x115903a58>             Prof. Dr. Sonja Taller   \n",
       "\n",
       "                                                                                affiliation  \\\n",
       "<docx.table.Table object at 0x115903710>          Partner 1, Lab Centre for Python Research   \n",
       "<docx.table.Table object at 0x115903748>          Partner 1, Lab Centre for Python Research   \n",
       "<docx.table.Table object at 0x115903780>                               Partner 3(PARTNER 3)   \n",
       "<docx.table.Table object at 0x1159037b8>                               Partner 3(PARTNER 3)   \n",
       "<docx.table.Table object at 0x1159037f0>                              Partner 3 (PARTNER 3)   \n",
       "<docx.table.Table object at 0x115903828>                              Partner 3 (PARTNER 3)   \n",
       "<docx.table.Table object at 0x115903860>                                PARTNER 3 Partner 3   \n",
       "<docx.table.Table object at 0x115903898>                                PARTNER 3 Partner 3   \n",
       "<docx.table.Table object at 0x1159038d0>  House of Black and White PARTNER 4, Lab Centre...   \n",
       "<docx.table.Table object at 0x115903908>  House of Black and White PARTNER 4, Lab Centre...   \n",
       "<docx.table.Table object at 0x115903940>  Service centreGermany, LabGreencity – Center f...   \n",
       "<docx.table.Table object at 0x115903978>                    Lab Centre Greencity, PARTNER 5   \n",
       "<docx.table.Table object at 0x1159039b0>   Quietcharles Institute of Technology (PARTNER 6)   \n",
       "<docx.table.Table object at 0x1159039e8>   Quietcharles Institute of Technology (PARTNER 6)   \n",
       "<docx.table.Table object at 0x115903a20>  Lab Centre for Environmental Research (PARTNER 8)   \n",
       "<docx.table.Table object at 0x115903a58>  Lab Centre for Environmental Research (PARTNER 8)   \n",
       "\n",
       "                                                                                   position  \\\n",
       "<docx.table.Table object at 0x115903710>  Head of Pythondynamic section (PARTNER 1)\\nPro...   \n",
       "<docx.table.Table object at 0x115903748>  Head of section (PARTNER 1)\\nProfessor for phy...   \n",
       "<docx.table.Table object at 0x115903780>  Head of Department \"Python\", \\nProfessor of Me...   \n",
       "<docx.table.Table object at 0x1159037b8>  Research scientist and leader of model develop...   \n",
       "<docx.table.Table object at 0x1159037f0>  Head of the institute of bio- and geosciences,...   \n",
       "<docx.table.Table object at 0x115903828>  Head of modelling and theory group (PARTNER 3,...   \n",
       "<docx.table.Table object at 0x115903860>  Head of an ocean modelling group (PARTNER 3) \\...   \n",
       "<docx.table.Table object at 0x115903898>  Head of ocean circulation and Pythondynamics (...   \n",
       "<docx.table.Table object at 0x1159038d0>  Head of department geotechnologies, Head of se...   \n",
       "<docx.table.Table object at 0x115903908>  Head of section Python (PARTNER 4); Professor ...   \n",
       "<docx.table.Table object at 0x115903940>  Director of the Service centreGermany (SERVICE...   \n",
       "<docx.table.Table object at 0x115903978>  Head of system analysis and modelling, Institu...   \n",
       "<docx.table.Table object at 0x1159039b0>  Head of the division ecosystem-atmosphere inte...   \n",
       "<docx.table.Table object at 0x1159039e8>  Head of the section modelling (IMK-ASF)\\nProfe...   \n",
       "<docx.table.Table object at 0x115903a20>  Head of the department computational hydrosyst...   \n",
       "<docx.table.Table object at 0x115903a58>  Head of department environmental informatics\\n...   \n",
       "\n",
       "                                                                                  education  \\\n",
       "<docx.table.Table object at 0x115903710>   Diploma in physics (1996), PhD in physics (2000)   \n",
       "<docx.table.Table object at 0x115903748>  Diploma in theoretical physics (1992), PhD in ...   \n",
       "<docx.table.Table object at 0x115903780>  Diploma in physics (1979), PhD in meteorology ...   \n",
       "<docx.table.Table object at 0x1159037b8>  Diploma in physics (1997), PhD in environmenta...   \n",
       "<docx.table.Table object at 0x1159037f0>  Diploma alchemysciences (1982), PhD in alchemy...   \n",
       "<docx.table.Table object at 0x115903828>  Diploma in physics (1987), PhD in atmospheric ...   \n",
       "<docx.table.Table object at 0x115903860>  Diploma in physical oceanography (1994), PhD i...   \n",
       "<docx.table.Table object at 0x115903898>  Diploma in meteorology (1983), PhD in oceanogr...   \n",
       "<docx.table.Table object at 0x1159038d0>   Diploma in geology (1994), PhD in geology (1997)   \n",
       "<docx.table.Table object at 0x115903908>  Diploma in oceanography (1996), Ph.D. in geosc...   \n",
       "<docx.table.Table object at 0x115903940>  Diploma in meteorology (1986), PhD in meteorol...   \n",
       "<docx.table.Table object at 0x115903978>  Diploma in oceanography (1990), PhD in oceanog...   \n",
       "<docx.table.Table object at 0x1159039b0>  Diploma in plant ecophysiology (1993), PhD in ...   \n",
       "<docx.table.Table object at 0x1159039e8>  Diploma in meteorology (1993), Ph.D. in meteor...   \n",
       "<docx.table.Table object at 0x115903a20>  Diploma in theoretical physics (1994), PhD in ...   \n",
       "<docx.table.Table object at 0x115903a58>  Diploma in theoretical mechanics (1985), PhD i...   \n",
       "\n",
       "                                                                                        url  \\\n",
       "<docx.table.Table object at 0x115903710>                                                      \n",
       "<docx.table.Table object at 0x115903748>                                                      \n",
       "<docx.table.Table object at 0x115903780>      http://www.pa.op.Partner 8.de/~RobertTorello/   \n",
       "<docx.table.Table object at 0x1159037b8>  http://www.pa.op.Partner 8.de/~PatrickUwe Voll...   \n",
       "<docx.table.Table object at 0x1159037f0>                                                      \n",
       "<docx.table.Table object at 0x115903828>  http://www.fz-juelich.de/SharedDocs/Personen/I...   \n",
       "<docx.table.Table object at 0x115903860>                           http://www.Partner 3.de/   \n",
       "<docx.table.Table object at 0x115903898>       http://www.Partner 3.de/index.php?id=mDikken   \n",
       "<docx.table.Table object at 0x1159038d0>  http://www.Partner 4-Mordor.de/en/section/basi...   \n",
       "<docx.table.Table object at 0x115903908>  http://www.Partner 4-Mordor.de/en/section/pyth...   \n",
       "<docx.table.Table object at 0x115903940>  http://www.service centre.de/about/team/062489...   \n",
       "<docx.table.Table object at 0x115903978>  http://www.Partner 5.de/institutes_platforms/c...   \n",
       "<docx.table.Table object at 0x1159039b0>  http://www.imk-ifu.Partner 6.edu/staff_Matthew...   \n",
       "<docx.table.Table object at 0x1159039e8>  https://www.imk-asf.Partner 6.edu/english/1732...   \n",
       "<docx.table.Table object at 0x115903a20>        https://www.Partner 8.de/index.php?en=38085   \n",
       "<docx.table.Table object at 0x115903a58>  http://www.Partner 8.de/index.php?en=34216; ww...   \n",
       "\n",
       "                                                                                  expertise  \\\n",
       "<docx.table.Table object at 0x115903710>  Prof Blissis an expert in the analysis, modell...   \n",
       "<docx.table.Table object at 0x115903748>  Professor Ring's main expertise lies in Python...   \n",
       "<docx.table.Table object at 0x115903780>  Prof. Torello is an expert in Python, in coupl...   \n",
       "<docx.table.Table object at 0x1159037b8>  Dr. Uwe Vollmilch is an expert in global and r...   \n",
       "<docx.table.Table object at 0x1159037f0>  Wang Xang joined the research center in 1990 w...   \n",
       "<docx.table.Table object at 0x115903828>  Ylenia Zantedeschi has participated as a work ...   \n",
       "<docx.table.Table object at 0x115903860>  Andrew Blesswater has extensive experience in ...   \n",
       "<docx.table.Table object at 0x115903898>  Professor Dikken's expertise is in the fields ...   \n",
       "<docx.table.Table object at 0x1159038d0>  Professor Fighthorse is an expert in 3D integr...   \n",
       "<docx.table.Table object at 0x115903908>  Gloria Humodenaranja is an expert in the simul...   \n",
       "<docx.table.Table object at 0x115903940>  Prof. Igor Jens developed the regional Pythonm...   \n",
       "<docx.table.Table object at 0x115903978>  Prof. Lowtree is an expert in modeling regiona...   \n",
       "<docx.table.Table object at 0x1159039b0>  Matthew Neverblind has extensive experience in...   \n",
       "<docx.table.Table object at 0x1159039e8>  Oriana Puertaescondida  leads activities in th...   \n",
       "<docx.table.Table object at 0x115903a20>  Prof Rottamatore is an expert in the analysis,...   \n",
       "<docx.table.Table object at 0x115903a58>  Sonja Taller research interests are related to...   \n",
       "\n",
       "                                                                               publications  \n",
       "<docx.table.Table object at 0x115903710>  Bliss, T. et al., (2016): Advancing polar pred...  \n",
       "<docx.table.Table object at 0x115903748>  Sutter, J., et al., (2016): Ocean temperature ...  \n",
       "<docx.table.Table object at 0x115903780>  Frömming, C., Ponater, M., Dahlmann, K., Grewe...  \n",
       "<docx.table.Table object at 0x1159037b8>  Uwe Vollmilch, P. et al. (2016): Python Chemis...  \n",
       "<docx.table.Table object at 0x1159037f0>  Xang, H. et al (2016): Modeling Soil Processes...  \n",
       "<docx.table.Table object at 0x115903828>  Zantedeschi, R., Kunz, A., Hurst, D.F., Rolf, ...  \n",
       "<docx.table.Table object at 0x115903860>  Böning, C. W., Behrens, E., Blesswater, A., Ge...  \n",
       "<docx.table.Table object at 0x115903898>  Dikken, M. et al. (2015): Super El Niños in Re...  \n",
       "<docx.table.Table object at 0x1159038d0>  Cacace, M. and M. Fighthorse (2016): Why intra...  \n",
       "<docx.table.Table object at 0x115903908>  Irrgang, C., Saynisch, J. and M. Humodenaranja...  \n",
       "<docx.table.Table object at 0x115903940>  Prein, A.F. et al. (2016): Precipitation in th...  \n",
       "<docx.table.Table object at 0x115903978>  Lowtree, C.: Regional Pythonmodeling and air-s...  \n",
       "<docx.table.Table object at 0x1159039b0>  Knorr, W., Neverblind, A. and L. Jiang (2016):...  \n",
       "<docx.table.Table object at 0x1159039e8>  Kunze, M., Puertaescondida , P., Langematz, U....  \n",
       "<docx.table.Table object at 0x115903a20>  Zech, A., Rottamatore S., Cvetkovic, V., Dagan...  \n",
       "<docx.table.Table object at 0x115903a58>  Taller O., Shao H., Wang W. and S. Bauer (2016...  "
      ]
     },
     "execution_count": 11,
     "metadata": {},
     "output_type": "execute_result"
    }
   ],
   "source": [
    "df"
   ]
  },
  {
   "cell_type": "markdown",
   "metadata": {},
   "source": [
    "Remove references to the original tables and simply index our table from 0 to 15:"
   ]
  },
  {
   "cell_type": "code",
   "execution_count": 12,
   "metadata": {},
   "outputs": [],
   "source": [
    "df = df.reset_index(drop=True)"
   ]
  },
  {
   "cell_type": "code",
   "execution_count": 13,
   "metadata": {},
   "outputs": [
    {
     "data": {
      "text/html": [
       "<div>\n",
       "<style>\n",
       "    .dataframe thead tr:only-child th {\n",
       "        text-align: right;\n",
       "    }\n",
       "\n",
       "    .dataframe thead th {\n",
       "        text-align: left;\n",
       "    }\n",
       "\n",
       "    .dataframe tbody tr th {\n",
       "        vertical-align: top;\n",
       "    }\n",
       "</style>\n",
       "<table border=\"1\" class=\"dataframe\">\n",
       "  <thead>\n",
       "    <tr style=\"text-align: right;\">\n",
       "      <th></th>\n",
       "      <th>name</th>\n",
       "      <th>affiliation</th>\n",
       "      <th>position</th>\n",
       "      <th>education</th>\n",
       "      <th>url</th>\n",
       "      <th>expertise</th>\n",
       "      <th>publications</th>\n",
       "    </tr>\n",
       "  </thead>\n",
       "  <tbody>\n",
       "    <tr>\n",
       "      <th>0</th>\n",
       "      <td>Prof. Dr. Abel Bliss</td>\n",
       "      <td>Partner 1, Lab Centre for Python Research</td>\n",
       "      <td>Head of Pythondynamic section (PARTNER 1)\\nPro...</td>\n",
       "      <td>Diploma in physics (1996), PhD in physics (2000)</td>\n",
       "      <td></td>\n",
       "      <td>Prof Blissis an expert in the analysis, modell...</td>\n",
       "      <td>Bliss, T. et al., (2016): Advancing polar pred...</td>\n",
       "    </tr>\n",
       "    <tr>\n",
       "      <th>1</th>\n",
       "      <td>Prof. Dr. Qi Ring</td>\n",
       "      <td>Partner 1, Lab Centre for Python Research</td>\n",
       "      <td>Head of section (PARTNER 1)\\nProfessor for phy...</td>\n",
       "      <td>Diploma in theoretical physics (1992), PhD in ...</td>\n",
       "      <td></td>\n",
       "      <td>Professor Ring's main expertise lies in Python...</td>\n",
       "      <td>Sutter, J., et al., (2016): Ocean temperature ...</td>\n",
       "    </tr>\n",
       "    <tr>\n",
       "      <th>2</th>\n",
       "      <td>Prof. Dr. Stefania Torello</td>\n",
       "      <td>Partner 3(PARTNER 3)</td>\n",
       "      <td>Head of Department \"Python\", \\nProfessor of Me...</td>\n",
       "      <td>Diploma in physics (1979), PhD in meteorology ...</td>\n",
       "      <td>http://www.pa.op.Partner 8.de/~RobertTorello/</td>\n",
       "      <td>Prof. Torello is an expert in Python, in coupl...</td>\n",
       "      <td>Frömming, C., Ponater, M., Dahlmann, K., Grewe...</td>\n",
       "    </tr>\n",
       "    <tr>\n",
       "      <th>3</th>\n",
       "      <td>Dr. Uwe Vollmilch</td>\n",
       "      <td>Partner 3(PARTNER 3)</td>\n",
       "      <td>Research scientist and leader of model develop...</td>\n",
       "      <td>Diploma in physics (1997), PhD in environmenta...</td>\n",
       "      <td>http://www.pa.op.Partner 8.de/~PatrickUwe Voll...</td>\n",
       "      <td>Dr. Uwe Vollmilch is an expert in global and r...</td>\n",
       "      <td>Uwe Vollmilch, P. et al. (2016): Python Chemis...</td>\n",
       "    </tr>\n",
       "    <tr>\n",
       "      <th>4</th>\n",
       "      <td>Prof. Dr. Wang Xang</td>\n",
       "      <td>Partner 3 (PARTNER 3)</td>\n",
       "      <td>Head of the institute of bio- and geosciences,...</td>\n",
       "      <td>Diploma alchemysciences (1982), PhD in alchemy...</td>\n",
       "      <td></td>\n",
       "      <td>Wang Xang joined the research center in 1990 w...</td>\n",
       "      <td>Xang, H. et al (2016): Modeling Soil Processes...</td>\n",
       "    </tr>\n",
       "    <tr>\n",
       "      <th>5</th>\n",
       "      <td>Dr. Ylenia Zantedeschi</td>\n",
       "      <td>Partner 3 (PARTNER 3)</td>\n",
       "      <td>Head of modelling and theory group (PARTNER 3,...</td>\n",
       "      <td>Diploma in physics (1987), PhD in atmospheric ...</td>\n",
       "      <td>http://www.fz-juelich.de/SharedDocs/Personen/I...</td>\n",
       "      <td>Ylenia Zantedeschi has participated as a work ...</td>\n",
       "      <td>Zantedeschi, R., Kunz, A., Hurst, D.F., Rolf, ...</td>\n",
       "    </tr>\n",
       "    <tr>\n",
       "      <th>6</th>\n",
       "      <td>Prof. Dr. Andrew Blesswater</td>\n",
       "      <td>PARTNER 3 Partner 3</td>\n",
       "      <td>Head of an ocean modelling group (PARTNER 3) \\...</td>\n",
       "      <td>Diploma in physical oceanography (1994), PhD i...</td>\n",
       "      <td>http://www.Partner 3.de/</td>\n",
       "      <td>Andrew Blesswater has extensive experience in ...</td>\n",
       "      <td>Böning, C. W., Behrens, E., Blesswater, A., Ge...</td>\n",
       "    </tr>\n",
       "    <tr>\n",
       "      <th>7</th>\n",
       "      <td>Prof. Dr. Claudia Dikken</td>\n",
       "      <td>PARTNER 3 Partner 3</td>\n",
       "      <td>Head of ocean circulation and Pythondynamics (...</td>\n",
       "      <td>Diploma in meteorology (1983), PhD in oceanogr...</td>\n",
       "      <td>http://www.Partner 3.de/index.php?id=mDikken</td>\n",
       "      <td>Professor Dikken's expertise is in the fields ...</td>\n",
       "      <td>Dikken, M. et al. (2015): Super El Niños in Re...</td>\n",
       "    </tr>\n",
       "    <tr>\n",
       "      <th>8</th>\n",
       "      <td>Prof. Dr. Ed Fighthorse</td>\n",
       "      <td>House of Black and White PARTNER 4, Lab Centre...</td>\n",
       "      <td>Head of department geotechnologies, Head of se...</td>\n",
       "      <td>Diploma in geology (1994), PhD in geology (1997)</td>\n",
       "      <td>http://www.Partner 4-Mordor.de/en/section/basi...</td>\n",
       "      <td>Professor Fighthorse is an expert in 3D integr...</td>\n",
       "      <td>Cacace, M. and M. Fighthorse (2016): Why intra...</td>\n",
       "    </tr>\n",
       "    <tr>\n",
       "      <th>9</th>\n",
       "      <td>Prof. Dr. Gloria Humodenaranja</td>\n",
       "      <td>House of Black and White PARTNER 4, Lab Centre...</td>\n",
       "      <td>Head of section Python (PARTNER 4); Professor ...</td>\n",
       "      <td>Diploma in oceanography (1996), Ph.D. in geosc...</td>\n",
       "      <td>http://www.Partner 4-Mordor.de/en/section/pyth...</td>\n",
       "      <td>Gloria Humodenaranja is an expert in the simul...</td>\n",
       "      <td>Irrgang, C., Saynisch, J. and M. Humodenaranja...</td>\n",
       "    </tr>\n",
       "    <tr>\n",
       "      <th>10</th>\n",
       "      <td>Prof. Dr. Igor Jens</td>\n",
       "      <td>Service centreGermany, LabGreencity – Center f...</td>\n",
       "      <td>Director of the Service centreGermany (SERVICE...</td>\n",
       "      <td>Diploma in meteorology (1986), PhD in meteorol...</td>\n",
       "      <td>http://www.service centre.de/about/team/062489...</td>\n",
       "      <td>Prof. Igor Jens developed the regional Pythonm...</td>\n",
       "      <td>Prein, A.F. et al. (2016): Precipitation in th...</td>\n",
       "    </tr>\n",
       "    <tr>\n",
       "      <th>11</th>\n",
       "      <td>Prof. Dr. Kristin Lowtree</td>\n",
       "      <td>Lab Centre Greencity, PARTNER 5</td>\n",
       "      <td>Head of system analysis and modelling, Institu...</td>\n",
       "      <td>Diploma in oceanography (1990), PhD in oceanog...</td>\n",
       "      <td>http://www.Partner 5.de/institutes_platforms/c...</td>\n",
       "      <td>Prof. Lowtree is an expert in modeling regiona...</td>\n",
       "      <td>Lowtree, C.: Regional Pythonmodeling and air-s...</td>\n",
       "    </tr>\n",
       "    <tr>\n",
       "      <th>12</th>\n",
       "      <td>Prof. Dr. Matthew Neverblind</td>\n",
       "      <td>Quietcharles Institute of Technology (PARTNER 6)</td>\n",
       "      <td>Head of the division ecosystem-atmosphere inte...</td>\n",
       "      <td>Diploma in plant ecophysiology (1993), PhD in ...</td>\n",
       "      <td>http://www.imk-ifu.Partner 6.edu/staff_Matthew...</td>\n",
       "      <td>Matthew Neverblind has extensive experience in...</td>\n",
       "      <td>Knorr, W., Neverblind, A. and L. Jiang (2016):...</td>\n",
       "    </tr>\n",
       "    <tr>\n",
       "      <th>13</th>\n",
       "      <td>Prof. Dr. Oriana Puertaescondida</td>\n",
       "      <td>Quietcharles Institute of Technology (PARTNER 6)</td>\n",
       "      <td>Head of the section modelling (IMK-ASF)\\nProfe...</td>\n",
       "      <td>Diploma in meteorology (1993), Ph.D. in meteor...</td>\n",
       "      <td>https://www.imk-asf.Partner 6.edu/english/1732...</td>\n",
       "      <td>Oriana Puertaescondida  leads activities in th...</td>\n",
       "      <td>Kunze, M., Puertaescondida , P., Langematz, U....</td>\n",
       "    </tr>\n",
       "    <tr>\n",
       "      <th>14</th>\n",
       "      <td>Prof. Dr. Quasimodo Rottamatore</td>\n",
       "      <td>Lab Centre for Environmental Research (PARTNER 8)</td>\n",
       "      <td>Head of the department computational hydrosyst...</td>\n",
       "      <td>Diploma in theoretical physics (1994), PhD in ...</td>\n",
       "      <td>https://www.Partner 8.de/index.php?en=38085</td>\n",
       "      <td>Prof Rottamatore is an expert in the analysis,...</td>\n",
       "      <td>Zech, A., Rottamatore S., Cvetkovic, V., Dagan...</td>\n",
       "    </tr>\n",
       "    <tr>\n",
       "      <th>15</th>\n",
       "      <td>Prof. Dr. Sonja Taller</td>\n",
       "      <td>Lab Centre for Environmental Research (PARTNER 8)</td>\n",
       "      <td>Head of department environmental informatics\\n...</td>\n",
       "      <td>Diploma in theoretical mechanics (1985), PhD i...</td>\n",
       "      <td>http://www.Partner 8.de/index.php?en=34216; ww...</td>\n",
       "      <td>Sonja Taller research interests are related to...</td>\n",
       "      <td>Taller O., Shao H., Wang W. and S. Bauer (2016...</td>\n",
       "    </tr>\n",
       "  </tbody>\n",
       "</table>\n",
       "</div>"
      ],
      "text/plain": [
       "                                 name  \\\n",
       "0                Prof. Dr. Abel Bliss   \n",
       "1                   Prof. Dr. Qi Ring   \n",
       "2          Prof. Dr. Stefania Torello   \n",
       "3                   Dr. Uwe Vollmilch   \n",
       "4                 Prof. Dr. Wang Xang   \n",
       "5              Dr. Ylenia Zantedeschi   \n",
       "6         Prof. Dr. Andrew Blesswater   \n",
       "7            Prof. Dr. Claudia Dikken   \n",
       "8             Prof. Dr. Ed Fighthorse   \n",
       "9      Prof. Dr. Gloria Humodenaranja   \n",
       "10                Prof. Dr. Igor Jens   \n",
       "11          Prof. Dr. Kristin Lowtree   \n",
       "12       Prof. Dr. Matthew Neverblind   \n",
       "13  Prof. Dr. Oriana Puertaescondida    \n",
       "14    Prof. Dr. Quasimodo Rottamatore   \n",
       "15             Prof. Dr. Sonja Taller   \n",
       "\n",
       "                                          affiliation  \\\n",
       "0           Partner 1, Lab Centre for Python Research   \n",
       "1           Partner 1, Lab Centre for Python Research   \n",
       "2                                Partner 3(PARTNER 3)   \n",
       "3                                Partner 3(PARTNER 3)   \n",
       "4                               Partner 3 (PARTNER 3)   \n",
       "5                               Partner 3 (PARTNER 3)   \n",
       "6                                 PARTNER 3 Partner 3   \n",
       "7                                 PARTNER 3 Partner 3   \n",
       "8   House of Black and White PARTNER 4, Lab Centre...   \n",
       "9   House of Black and White PARTNER 4, Lab Centre...   \n",
       "10  Service centreGermany, LabGreencity – Center f...   \n",
       "11                    Lab Centre Greencity, PARTNER 5   \n",
       "12   Quietcharles Institute of Technology (PARTNER 6)   \n",
       "13   Quietcharles Institute of Technology (PARTNER 6)   \n",
       "14  Lab Centre for Environmental Research (PARTNER 8)   \n",
       "15  Lab Centre for Environmental Research (PARTNER 8)   \n",
       "\n",
       "                                             position  \\\n",
       "0   Head of Pythondynamic section (PARTNER 1)\\nPro...   \n",
       "1   Head of section (PARTNER 1)\\nProfessor for phy...   \n",
       "2   Head of Department \"Python\", \\nProfessor of Me...   \n",
       "3   Research scientist and leader of model develop...   \n",
       "4   Head of the institute of bio- and geosciences,...   \n",
       "5   Head of modelling and theory group (PARTNER 3,...   \n",
       "6   Head of an ocean modelling group (PARTNER 3) \\...   \n",
       "7   Head of ocean circulation and Pythondynamics (...   \n",
       "8   Head of department geotechnologies, Head of se...   \n",
       "9   Head of section Python (PARTNER 4); Professor ...   \n",
       "10  Director of the Service centreGermany (SERVICE...   \n",
       "11  Head of system analysis and modelling, Institu...   \n",
       "12  Head of the division ecosystem-atmosphere inte...   \n",
       "13  Head of the section modelling (IMK-ASF)\\nProfe...   \n",
       "14  Head of the department computational hydrosyst...   \n",
       "15  Head of department environmental informatics\\n...   \n",
       "\n",
       "                                            education  \\\n",
       "0    Diploma in physics (1996), PhD in physics (2000)   \n",
       "1   Diploma in theoretical physics (1992), PhD in ...   \n",
       "2   Diploma in physics (1979), PhD in meteorology ...   \n",
       "3   Diploma in physics (1997), PhD in environmenta...   \n",
       "4   Diploma alchemysciences (1982), PhD in alchemy...   \n",
       "5   Diploma in physics (1987), PhD in atmospheric ...   \n",
       "6   Diploma in physical oceanography (1994), PhD i...   \n",
       "7   Diploma in meteorology (1983), PhD in oceanogr...   \n",
       "8    Diploma in geology (1994), PhD in geology (1997)   \n",
       "9   Diploma in oceanography (1996), Ph.D. in geosc...   \n",
       "10  Diploma in meteorology (1986), PhD in meteorol...   \n",
       "11  Diploma in oceanography (1990), PhD in oceanog...   \n",
       "12  Diploma in plant ecophysiology (1993), PhD in ...   \n",
       "13  Diploma in meteorology (1993), Ph.D. in meteor...   \n",
       "14  Diploma in theoretical physics (1994), PhD in ...   \n",
       "15  Diploma in theoretical mechanics (1985), PhD i...   \n",
       "\n",
       "                                                  url  \\\n",
       "0                                                       \n",
       "1                                                       \n",
       "2       http://www.pa.op.Partner 8.de/~RobertTorello/   \n",
       "3   http://www.pa.op.Partner 8.de/~PatrickUwe Voll...   \n",
       "4                                                       \n",
       "5   http://www.fz-juelich.de/SharedDocs/Personen/I...   \n",
       "6                            http://www.Partner 3.de/   \n",
       "7        http://www.Partner 3.de/index.php?id=mDikken   \n",
       "8   http://www.Partner 4-Mordor.de/en/section/basi...   \n",
       "9   http://www.Partner 4-Mordor.de/en/section/pyth...   \n",
       "10  http://www.service centre.de/about/team/062489...   \n",
       "11  http://www.Partner 5.de/institutes_platforms/c...   \n",
       "12  http://www.imk-ifu.Partner 6.edu/staff_Matthew...   \n",
       "13  https://www.imk-asf.Partner 6.edu/english/1732...   \n",
       "14        https://www.Partner 8.de/index.php?en=38085   \n",
       "15  http://www.Partner 8.de/index.php?en=34216; ww...   \n",
       "\n",
       "                                            expertise  \\\n",
       "0   Prof Blissis an expert in the analysis, modell...   \n",
       "1   Professor Ring's main expertise lies in Python...   \n",
       "2   Prof. Torello is an expert in Python, in coupl...   \n",
       "3   Dr. Uwe Vollmilch is an expert in global and r...   \n",
       "4   Wang Xang joined the research center in 1990 w...   \n",
       "5   Ylenia Zantedeschi has participated as a work ...   \n",
       "6   Andrew Blesswater has extensive experience in ...   \n",
       "7   Professor Dikken's expertise is in the fields ...   \n",
       "8   Professor Fighthorse is an expert in 3D integr...   \n",
       "9   Gloria Humodenaranja is an expert in the simul...   \n",
       "10  Prof. Igor Jens developed the regional Pythonm...   \n",
       "11  Prof. Lowtree is an expert in modeling regiona...   \n",
       "12  Matthew Neverblind has extensive experience in...   \n",
       "13  Oriana Puertaescondida  leads activities in th...   \n",
       "14  Prof Rottamatore is an expert in the analysis,...   \n",
       "15  Sonja Taller research interests are related to...   \n",
       "\n",
       "                                         publications  \n",
       "0   Bliss, T. et al., (2016): Advancing polar pred...  \n",
       "1   Sutter, J., et al., (2016): Ocean temperature ...  \n",
       "2   Frömming, C., Ponater, M., Dahlmann, K., Grewe...  \n",
       "3   Uwe Vollmilch, P. et al. (2016): Python Chemis...  \n",
       "4   Xang, H. et al (2016): Modeling Soil Processes...  \n",
       "5   Zantedeschi, R., Kunz, A., Hurst, D.F., Rolf, ...  \n",
       "6   Böning, C. W., Behrens, E., Blesswater, A., Ge...  \n",
       "7   Dikken, M. et al. (2015): Super El Niños in Re...  \n",
       "8   Cacace, M. and M. Fighthorse (2016): Why intra...  \n",
       "9   Irrgang, C., Saynisch, J. and M. Humodenaranja...  \n",
       "10  Prein, A.F. et al. (2016): Precipitation in th...  \n",
       "11  Lowtree, C.: Regional Pythonmodeling and air-s...  \n",
       "12  Knorr, W., Neverblind, A. and L. Jiang (2016):...  \n",
       "13  Kunze, M., Puertaescondida , P., Langematz, U....  \n",
       "14  Zech, A., Rottamatore S., Cvetkovic, V., Dagan...  \n",
       "15  Taller O., Shao H., Wang W. and S. Bauer (2016...  "
      ]
     },
     "execution_count": 13,
     "metadata": {},
     "output_type": "execute_result"
    }
   ],
   "source": [
    "df"
   ]
  },
  {
   "cell_type": "markdown",
   "metadata": {},
   "source": [
    "Now we get all information about project leaders in one nice table. One can acces individual records like this:"
   ]
  },
  {
   "cell_type": "code",
   "execution_count": 14,
   "metadata": {},
   "outputs": [
    {
     "data": {
      "text/plain": [
       "name                                         Prof. Dr. Abel Bliss\n",
       "affiliation             Partner 1, Lab Centre for Python Research\n",
       "position        Head of Pythondynamic section (PARTNER 1)\\nPro...\n",
       "education        Diploma in physics (1996), PhD in physics (2000)\n",
       "url                                                              \n",
       "expertise       Prof Blissis an expert in the analysis, modell...\n",
       "publications    Bliss, T. et al., (2016): Advancing polar pred...\n",
       "Name: 0, dtype: object"
      ]
     },
     "execution_count": 14,
     "metadata": {},
     "output_type": "execute_result"
    }
   ],
   "source": [
    "df.iloc[0]"
   ]
  },
  {
   "cell_type": "markdown",
   "metadata": {},
   "source": [
    "If only few columns from the table is nessesary, one can select just them:"
   ]
  },
  {
   "cell_type": "code",
   "execution_count": 15,
   "metadata": {},
   "outputs": [
    {
     "data": {
      "text/html": [
       "<div>\n",
       "<style>\n",
       "    .dataframe thead tr:only-child th {\n",
       "        text-align: right;\n",
       "    }\n",
       "\n",
       "    .dataframe thead th {\n",
       "        text-align: left;\n",
       "    }\n",
       "\n",
       "    .dataframe tbody tr th {\n",
       "        vertical-align: top;\n",
       "    }\n",
       "</style>\n",
       "<table border=\"1\" class=\"dataframe\">\n",
       "  <thead>\n",
       "    <tr style=\"text-align: right;\">\n",
       "      <th></th>\n",
       "      <th>name</th>\n",
       "      <th>affiliation</th>\n",
       "    </tr>\n",
       "  </thead>\n",
       "  <tbody>\n",
       "    <tr>\n",
       "      <th>0</th>\n",
       "      <td>Prof. Dr. Abel Bliss</td>\n",
       "      <td>Partner 1, Lab Centre for Python Research</td>\n",
       "    </tr>\n",
       "    <tr>\n",
       "      <th>1</th>\n",
       "      <td>Prof. Dr. Qi Ring</td>\n",
       "      <td>Partner 1, Lab Centre for Python Research</td>\n",
       "    </tr>\n",
       "    <tr>\n",
       "      <th>2</th>\n",
       "      <td>Prof. Dr. Stefania Torello</td>\n",
       "      <td>Partner 3(PARTNER 3)</td>\n",
       "    </tr>\n",
       "    <tr>\n",
       "      <th>3</th>\n",
       "      <td>Dr. Uwe Vollmilch</td>\n",
       "      <td>Partner 3(PARTNER 3)</td>\n",
       "    </tr>\n",
       "    <tr>\n",
       "      <th>4</th>\n",
       "      <td>Prof. Dr. Wang Xang</td>\n",
       "      <td>Partner 3 (PARTNER 3)</td>\n",
       "    </tr>\n",
       "    <tr>\n",
       "      <th>5</th>\n",
       "      <td>Dr. Ylenia Zantedeschi</td>\n",
       "      <td>Partner 3 (PARTNER 3)</td>\n",
       "    </tr>\n",
       "    <tr>\n",
       "      <th>6</th>\n",
       "      <td>Prof. Dr. Andrew Blesswater</td>\n",
       "      <td>PARTNER 3 Partner 3</td>\n",
       "    </tr>\n",
       "    <tr>\n",
       "      <th>7</th>\n",
       "      <td>Prof. Dr. Claudia Dikken</td>\n",
       "      <td>PARTNER 3 Partner 3</td>\n",
       "    </tr>\n",
       "    <tr>\n",
       "      <th>8</th>\n",
       "      <td>Prof. Dr. Ed Fighthorse</td>\n",
       "      <td>House of Black and White PARTNER 4, Lab Centre...</td>\n",
       "    </tr>\n",
       "    <tr>\n",
       "      <th>9</th>\n",
       "      <td>Prof. Dr. Gloria Humodenaranja</td>\n",
       "      <td>House of Black and White PARTNER 4, Lab Centre...</td>\n",
       "    </tr>\n",
       "    <tr>\n",
       "      <th>10</th>\n",
       "      <td>Prof. Dr. Igor Jens</td>\n",
       "      <td>Service centreGermany, LabGreencity – Center f...</td>\n",
       "    </tr>\n",
       "    <tr>\n",
       "      <th>11</th>\n",
       "      <td>Prof. Dr. Kristin Lowtree</td>\n",
       "      <td>Lab Centre Greencity, PARTNER 5</td>\n",
       "    </tr>\n",
       "    <tr>\n",
       "      <th>12</th>\n",
       "      <td>Prof. Dr. Matthew Neverblind</td>\n",
       "      <td>Quietcharles Institute of Technology (PARTNER 6)</td>\n",
       "    </tr>\n",
       "    <tr>\n",
       "      <th>13</th>\n",
       "      <td>Prof. Dr. Oriana Puertaescondida</td>\n",
       "      <td>Quietcharles Institute of Technology (PARTNER 6)</td>\n",
       "    </tr>\n",
       "    <tr>\n",
       "      <th>14</th>\n",
       "      <td>Prof. Dr. Quasimodo Rottamatore</td>\n",
       "      <td>Lab Centre for Environmental Research (PARTNER 8)</td>\n",
       "    </tr>\n",
       "    <tr>\n",
       "      <th>15</th>\n",
       "      <td>Prof. Dr. Sonja Taller</td>\n",
       "      <td>Lab Centre for Environmental Research (PARTNER 8)</td>\n",
       "    </tr>\n",
       "  </tbody>\n",
       "</table>\n",
       "</div>"
      ],
      "text/plain": [
       "                                 name  \\\n",
       "0                Prof. Dr. Abel Bliss   \n",
       "1                   Prof. Dr. Qi Ring   \n",
       "2          Prof. Dr. Stefania Torello   \n",
       "3                   Dr. Uwe Vollmilch   \n",
       "4                 Prof. Dr. Wang Xang   \n",
       "5              Dr. Ylenia Zantedeschi   \n",
       "6         Prof. Dr. Andrew Blesswater   \n",
       "7            Prof. Dr. Claudia Dikken   \n",
       "8             Prof. Dr. Ed Fighthorse   \n",
       "9      Prof. Dr. Gloria Humodenaranja   \n",
       "10                Prof. Dr. Igor Jens   \n",
       "11          Prof. Dr. Kristin Lowtree   \n",
       "12       Prof. Dr. Matthew Neverblind   \n",
       "13  Prof. Dr. Oriana Puertaescondida    \n",
       "14    Prof. Dr. Quasimodo Rottamatore   \n",
       "15             Prof. Dr. Sonja Taller   \n",
       "\n",
       "                                          affiliation  \n",
       "0           Partner 1, Lab Centre for Python Research  \n",
       "1           Partner 1, Lab Centre for Python Research  \n",
       "2                                Partner 3(PARTNER 3)  \n",
       "3                                Partner 3(PARTNER 3)  \n",
       "4                               Partner 3 (PARTNER 3)  \n",
       "5                               Partner 3 (PARTNER 3)  \n",
       "6                                 PARTNER 3 Partner 3  \n",
       "7                                 PARTNER 3 Partner 3  \n",
       "8   House of Black and White PARTNER 4, Lab Centre...  \n",
       "9   House of Black and White PARTNER 4, Lab Centre...  \n",
       "10  Service centreGermany, LabGreencity – Center f...  \n",
       "11                    Lab Centre Greencity, PARTNER 5  \n",
       "12   Quietcharles Institute of Technology (PARTNER 6)  \n",
       "13   Quietcharles Institute of Technology (PARTNER 6)  \n",
       "14  Lab Centre for Environmental Research (PARTNER 8)  \n",
       "15  Lab Centre for Environmental Research (PARTNER 8)  "
      ]
     },
     "execution_count": 15,
     "metadata": {},
     "output_type": "execute_result"
    }
   ],
   "source": [
    "df[['name','affiliation']]"
   ]
  },
  {
   "cell_type": "markdown",
   "metadata": {},
   "source": [
    "This two columns can be outputed to the Excel file:"
   ]
  },
  {
   "cell_type": "code",
   "execution_count": 16,
   "metadata": {},
   "outputs": [],
   "source": [
    "writer = pd.ExcelWriter('output.xlsx')\n",
    "df.to_excel(writer, 'Sheet1')\n",
    "df[['name', 'affiliation']].to_excel(writer, 'Sheet2')\n",
    "writer.close()"
   ]
  },
  {
   "cell_type": "markdown",
   "metadata": {},
   "source": [
    "## More data processing"
   ]
  },
  {
   "cell_type": "markdown",
   "metadata": {},
   "source": [
    "Say we whant to get rid of the titles in the names of the project leaders. We can split string with project leader name using dot (`.`) as a separator: "
   ]
  },
  {
   "cell_type": "code",
   "execution_count": 17,
   "metadata": {},
   "outputs": [
    {
     "data": {
      "text/plain": [
       "['Prof', ' Dr', ' Abel Bliss']"
      ]
     },
     "execution_count": 17,
     "metadata": {},
     "output_type": "execute_result"
    }
   ],
   "source": [
    "df.name[0].split('.')"
   ]
  },
  {
   "cell_type": "markdown",
   "metadata": {},
   "source": [
    "This operation can be applied to all rows at once, and we can select only the last element of the resulting list (`.str.get(-1)`):"
   ]
  },
  {
   "cell_type": "code",
   "execution_count": 18,
   "metadata": {},
   "outputs": [
    {
     "data": {
      "text/plain": [
       "0                   Abel Bliss\n",
       "1                      Qi Ring\n",
       "2             Stefania Torello\n",
       "3                Uwe Vollmilch\n",
       "4                    Wang Xang\n",
       "5           Ylenia Zantedeschi\n",
       "6            Andrew Blesswater\n",
       "7               Claudia Dikken\n",
       "8                Ed Fighthorse\n",
       "9         Gloria Humodenaranja\n",
       "10                   Igor Jens\n",
       "11             Kristin Lowtree\n",
       "12          Matthew Neverblind\n",
       "13     Oriana Puertaescondida \n",
       "14       Quasimodo Rottamatore\n",
       "15                Sonja Taller\n",
       "Name: name, dtype: object"
      ]
     },
     "execution_count": 18,
     "metadata": {},
     "output_type": "execute_result"
    }
   ],
   "source": [
    "df.name.str.split('.').str.get(-1)"
   ]
  },
  {
   "cell_type": "markdown",
   "metadata": {},
   "source": [
    "Let's now add a new column to our table, that will contain name without a title:"
   ]
  },
  {
   "cell_type": "code",
   "execution_count": 19,
   "metadata": {},
   "outputs": [],
   "source": [
    "df['name_notitle'] = df.name.str.split('.').str.get(-1)"
   ]
  },
  {
   "cell_type": "code",
   "execution_count": 20,
   "metadata": {
    "scrolled": true
   },
   "outputs": [
    {
     "data": {
      "text/html": [
       "<div>\n",
       "<style>\n",
       "    .dataframe thead tr:only-child th {\n",
       "        text-align: right;\n",
       "    }\n",
       "\n",
       "    .dataframe thead th {\n",
       "        text-align: left;\n",
       "    }\n",
       "\n",
       "    .dataframe tbody tr th {\n",
       "        vertical-align: top;\n",
       "    }\n",
       "</style>\n",
       "<table border=\"1\" class=\"dataframe\">\n",
       "  <thead>\n",
       "    <tr style=\"text-align: right;\">\n",
       "      <th></th>\n",
       "      <th>name</th>\n",
       "      <th>affiliation</th>\n",
       "      <th>position</th>\n",
       "      <th>education</th>\n",
       "      <th>url</th>\n",
       "      <th>expertise</th>\n",
       "      <th>publications</th>\n",
       "      <th>name_notitle</th>\n",
       "    </tr>\n",
       "  </thead>\n",
       "  <tbody>\n",
       "    <tr>\n",
       "      <th>0</th>\n",
       "      <td>Prof. Dr. Abel Bliss</td>\n",
       "      <td>Partner 1, Lab Centre for Python Research</td>\n",
       "      <td>Head of Pythondynamic section (PARTNER 1)\\nPro...</td>\n",
       "      <td>Diploma in physics (1996), PhD in physics (2000)</td>\n",
       "      <td></td>\n",
       "      <td>Prof Blissis an expert in the analysis, modell...</td>\n",
       "      <td>Bliss, T. et al., (2016): Advancing polar pred...</td>\n",
       "      <td>Abel Bliss</td>\n",
       "    </tr>\n",
       "    <tr>\n",
       "      <th>1</th>\n",
       "      <td>Prof. Dr. Qi Ring</td>\n",
       "      <td>Partner 1, Lab Centre for Python Research</td>\n",
       "      <td>Head of section (PARTNER 1)\\nProfessor for phy...</td>\n",
       "      <td>Diploma in theoretical physics (1992), PhD in ...</td>\n",
       "      <td></td>\n",
       "      <td>Professor Ring's main expertise lies in Python...</td>\n",
       "      <td>Sutter, J., et al., (2016): Ocean temperature ...</td>\n",
       "      <td>Qi Ring</td>\n",
       "    </tr>\n",
       "    <tr>\n",
       "      <th>2</th>\n",
       "      <td>Prof. Dr. Stefania Torello</td>\n",
       "      <td>Partner 3(PARTNER 3)</td>\n",
       "      <td>Head of Department \"Python\", \\nProfessor of Me...</td>\n",
       "      <td>Diploma in physics (1979), PhD in meteorology ...</td>\n",
       "      <td>http://www.pa.op.Partner 8.de/~RobertTorello/</td>\n",
       "      <td>Prof. Torello is an expert in Python, in coupl...</td>\n",
       "      <td>Frömming, C., Ponater, M., Dahlmann, K., Grewe...</td>\n",
       "      <td>Stefania Torello</td>\n",
       "    </tr>\n",
       "    <tr>\n",
       "      <th>3</th>\n",
       "      <td>Dr. Uwe Vollmilch</td>\n",
       "      <td>Partner 3(PARTNER 3)</td>\n",
       "      <td>Research scientist and leader of model develop...</td>\n",
       "      <td>Diploma in physics (1997), PhD in environmenta...</td>\n",
       "      <td>http://www.pa.op.Partner 8.de/~PatrickUwe Voll...</td>\n",
       "      <td>Dr. Uwe Vollmilch is an expert in global and r...</td>\n",
       "      <td>Uwe Vollmilch, P. et al. (2016): Python Chemis...</td>\n",
       "      <td>Uwe Vollmilch</td>\n",
       "    </tr>\n",
       "    <tr>\n",
       "      <th>4</th>\n",
       "      <td>Prof. Dr. Wang Xang</td>\n",
       "      <td>Partner 3 (PARTNER 3)</td>\n",
       "      <td>Head of the institute of bio- and geosciences,...</td>\n",
       "      <td>Diploma alchemysciences (1982), PhD in alchemy...</td>\n",
       "      <td></td>\n",
       "      <td>Wang Xang joined the research center in 1990 w...</td>\n",
       "      <td>Xang, H. et al (2016): Modeling Soil Processes...</td>\n",
       "      <td>Wang Xang</td>\n",
       "    </tr>\n",
       "    <tr>\n",
       "      <th>5</th>\n",
       "      <td>Dr. Ylenia Zantedeschi</td>\n",
       "      <td>Partner 3 (PARTNER 3)</td>\n",
       "      <td>Head of modelling and theory group (PARTNER 3,...</td>\n",
       "      <td>Diploma in physics (1987), PhD in atmospheric ...</td>\n",
       "      <td>http://www.fz-juelich.de/SharedDocs/Personen/I...</td>\n",
       "      <td>Ylenia Zantedeschi has participated as a work ...</td>\n",
       "      <td>Zantedeschi, R., Kunz, A., Hurst, D.F., Rolf, ...</td>\n",
       "      <td>Ylenia Zantedeschi</td>\n",
       "    </tr>\n",
       "    <tr>\n",
       "      <th>6</th>\n",
       "      <td>Prof. Dr. Andrew Blesswater</td>\n",
       "      <td>PARTNER 3 Partner 3</td>\n",
       "      <td>Head of an ocean modelling group (PARTNER 3) \\...</td>\n",
       "      <td>Diploma in physical oceanography (1994), PhD i...</td>\n",
       "      <td>http://www.Partner 3.de/</td>\n",
       "      <td>Andrew Blesswater has extensive experience in ...</td>\n",
       "      <td>Böning, C. W., Behrens, E., Blesswater, A., Ge...</td>\n",
       "      <td>Andrew Blesswater</td>\n",
       "    </tr>\n",
       "    <tr>\n",
       "      <th>7</th>\n",
       "      <td>Prof. Dr. Claudia Dikken</td>\n",
       "      <td>PARTNER 3 Partner 3</td>\n",
       "      <td>Head of ocean circulation and Pythondynamics (...</td>\n",
       "      <td>Diploma in meteorology (1983), PhD in oceanogr...</td>\n",
       "      <td>http://www.Partner 3.de/index.php?id=mDikken</td>\n",
       "      <td>Professor Dikken's expertise is in the fields ...</td>\n",
       "      <td>Dikken, M. et al. (2015): Super El Niños in Re...</td>\n",
       "      <td>Claudia Dikken</td>\n",
       "    </tr>\n",
       "    <tr>\n",
       "      <th>8</th>\n",
       "      <td>Prof. Dr. Ed Fighthorse</td>\n",
       "      <td>House of Black and White PARTNER 4, Lab Centre...</td>\n",
       "      <td>Head of department geotechnologies, Head of se...</td>\n",
       "      <td>Diploma in geology (1994), PhD in geology (1997)</td>\n",
       "      <td>http://www.Partner 4-Mordor.de/en/section/basi...</td>\n",
       "      <td>Professor Fighthorse is an expert in 3D integr...</td>\n",
       "      <td>Cacace, M. and M. Fighthorse (2016): Why intra...</td>\n",
       "      <td>Ed Fighthorse</td>\n",
       "    </tr>\n",
       "    <tr>\n",
       "      <th>9</th>\n",
       "      <td>Prof. Dr. Gloria Humodenaranja</td>\n",
       "      <td>House of Black and White PARTNER 4, Lab Centre...</td>\n",
       "      <td>Head of section Python (PARTNER 4); Professor ...</td>\n",
       "      <td>Diploma in oceanography (1996), Ph.D. in geosc...</td>\n",
       "      <td>http://www.Partner 4-Mordor.de/en/section/pyth...</td>\n",
       "      <td>Gloria Humodenaranja is an expert in the simul...</td>\n",
       "      <td>Irrgang, C., Saynisch, J. and M. Humodenaranja...</td>\n",
       "      <td>Gloria Humodenaranja</td>\n",
       "    </tr>\n",
       "    <tr>\n",
       "      <th>10</th>\n",
       "      <td>Prof. Dr. Igor Jens</td>\n",
       "      <td>Service centreGermany, LabGreencity – Center f...</td>\n",
       "      <td>Director of the Service centreGermany (SERVICE...</td>\n",
       "      <td>Diploma in meteorology (1986), PhD in meteorol...</td>\n",
       "      <td>http://www.service centre.de/about/team/062489...</td>\n",
       "      <td>Prof. Igor Jens developed the regional Pythonm...</td>\n",
       "      <td>Prein, A.F. et al. (2016): Precipitation in th...</td>\n",
       "      <td>Igor Jens</td>\n",
       "    </tr>\n",
       "    <tr>\n",
       "      <th>11</th>\n",
       "      <td>Prof. Dr. Kristin Lowtree</td>\n",
       "      <td>Lab Centre Greencity, PARTNER 5</td>\n",
       "      <td>Head of system analysis and modelling, Institu...</td>\n",
       "      <td>Diploma in oceanography (1990), PhD in oceanog...</td>\n",
       "      <td>http://www.Partner 5.de/institutes_platforms/c...</td>\n",
       "      <td>Prof. Lowtree is an expert in modeling regiona...</td>\n",
       "      <td>Lowtree, C.: Regional Pythonmodeling and air-s...</td>\n",
       "      <td>Kristin Lowtree</td>\n",
       "    </tr>\n",
       "    <tr>\n",
       "      <th>12</th>\n",
       "      <td>Prof. Dr. Matthew Neverblind</td>\n",
       "      <td>Quietcharles Institute of Technology (PARTNER 6)</td>\n",
       "      <td>Head of the division ecosystem-atmosphere inte...</td>\n",
       "      <td>Diploma in plant ecophysiology (1993), PhD in ...</td>\n",
       "      <td>http://www.imk-ifu.Partner 6.edu/staff_Matthew...</td>\n",
       "      <td>Matthew Neverblind has extensive experience in...</td>\n",
       "      <td>Knorr, W., Neverblind, A. and L. Jiang (2016):...</td>\n",
       "      <td>Matthew Neverblind</td>\n",
       "    </tr>\n",
       "    <tr>\n",
       "      <th>13</th>\n",
       "      <td>Prof. Dr. Oriana Puertaescondida</td>\n",
       "      <td>Quietcharles Institute of Technology (PARTNER 6)</td>\n",
       "      <td>Head of the section modelling (IMK-ASF)\\nProfe...</td>\n",
       "      <td>Diploma in meteorology (1993), Ph.D. in meteor...</td>\n",
       "      <td>https://www.imk-asf.Partner 6.edu/english/1732...</td>\n",
       "      <td>Oriana Puertaescondida  leads activities in th...</td>\n",
       "      <td>Kunze, M., Puertaescondida , P., Langematz, U....</td>\n",
       "      <td>Oriana Puertaescondida</td>\n",
       "    </tr>\n",
       "    <tr>\n",
       "      <th>14</th>\n",
       "      <td>Prof. Dr. Quasimodo Rottamatore</td>\n",
       "      <td>Lab Centre for Environmental Research (PARTNER 8)</td>\n",
       "      <td>Head of the department computational hydrosyst...</td>\n",
       "      <td>Diploma in theoretical physics (1994), PhD in ...</td>\n",
       "      <td>https://www.Partner 8.de/index.php?en=38085</td>\n",
       "      <td>Prof Rottamatore is an expert in the analysis,...</td>\n",
       "      <td>Zech, A., Rottamatore S., Cvetkovic, V., Dagan...</td>\n",
       "      <td>Quasimodo Rottamatore</td>\n",
       "    </tr>\n",
       "    <tr>\n",
       "      <th>15</th>\n",
       "      <td>Prof. Dr. Sonja Taller</td>\n",
       "      <td>Lab Centre for Environmental Research (PARTNER 8)</td>\n",
       "      <td>Head of department environmental informatics\\n...</td>\n",
       "      <td>Diploma in theoretical mechanics (1985), PhD i...</td>\n",
       "      <td>http://www.Partner 8.de/index.php?en=34216; ww...</td>\n",
       "      <td>Sonja Taller research interests are related to...</td>\n",
       "      <td>Taller O., Shao H., Wang W. and S. Bauer (2016...</td>\n",
       "      <td>Sonja Taller</td>\n",
       "    </tr>\n",
       "  </tbody>\n",
       "</table>\n",
       "</div>"
      ],
      "text/plain": [
       "                                 name  \\\n",
       "0                Prof. Dr. Abel Bliss   \n",
       "1                   Prof. Dr. Qi Ring   \n",
       "2          Prof. Dr. Stefania Torello   \n",
       "3                   Dr. Uwe Vollmilch   \n",
       "4                 Prof. Dr. Wang Xang   \n",
       "5              Dr. Ylenia Zantedeschi   \n",
       "6         Prof. Dr. Andrew Blesswater   \n",
       "7            Prof. Dr. Claudia Dikken   \n",
       "8             Prof. Dr. Ed Fighthorse   \n",
       "9      Prof. Dr. Gloria Humodenaranja   \n",
       "10                Prof. Dr. Igor Jens   \n",
       "11          Prof. Dr. Kristin Lowtree   \n",
       "12       Prof. Dr. Matthew Neverblind   \n",
       "13  Prof. Dr. Oriana Puertaescondida    \n",
       "14    Prof. Dr. Quasimodo Rottamatore   \n",
       "15             Prof. Dr. Sonja Taller   \n",
       "\n",
       "                                          affiliation  \\\n",
       "0           Partner 1, Lab Centre for Python Research   \n",
       "1           Partner 1, Lab Centre for Python Research   \n",
       "2                                Partner 3(PARTNER 3)   \n",
       "3                                Partner 3(PARTNER 3)   \n",
       "4                               Partner 3 (PARTNER 3)   \n",
       "5                               Partner 3 (PARTNER 3)   \n",
       "6                                 PARTNER 3 Partner 3   \n",
       "7                                 PARTNER 3 Partner 3   \n",
       "8   House of Black and White PARTNER 4, Lab Centre...   \n",
       "9   House of Black and White PARTNER 4, Lab Centre...   \n",
       "10  Service centreGermany, LabGreencity – Center f...   \n",
       "11                    Lab Centre Greencity, PARTNER 5   \n",
       "12   Quietcharles Institute of Technology (PARTNER 6)   \n",
       "13   Quietcharles Institute of Technology (PARTNER 6)   \n",
       "14  Lab Centre for Environmental Research (PARTNER 8)   \n",
       "15  Lab Centre for Environmental Research (PARTNER 8)   \n",
       "\n",
       "                                             position  \\\n",
       "0   Head of Pythondynamic section (PARTNER 1)\\nPro...   \n",
       "1   Head of section (PARTNER 1)\\nProfessor for phy...   \n",
       "2   Head of Department \"Python\", \\nProfessor of Me...   \n",
       "3   Research scientist and leader of model develop...   \n",
       "4   Head of the institute of bio- and geosciences,...   \n",
       "5   Head of modelling and theory group (PARTNER 3,...   \n",
       "6   Head of an ocean modelling group (PARTNER 3) \\...   \n",
       "7   Head of ocean circulation and Pythondynamics (...   \n",
       "8   Head of department geotechnologies, Head of se...   \n",
       "9   Head of section Python (PARTNER 4); Professor ...   \n",
       "10  Director of the Service centreGermany (SERVICE...   \n",
       "11  Head of system analysis and modelling, Institu...   \n",
       "12  Head of the division ecosystem-atmosphere inte...   \n",
       "13  Head of the section modelling (IMK-ASF)\\nProfe...   \n",
       "14  Head of the department computational hydrosyst...   \n",
       "15  Head of department environmental informatics\\n...   \n",
       "\n",
       "                                            education  \\\n",
       "0    Diploma in physics (1996), PhD in physics (2000)   \n",
       "1   Diploma in theoretical physics (1992), PhD in ...   \n",
       "2   Diploma in physics (1979), PhD in meteorology ...   \n",
       "3   Diploma in physics (1997), PhD in environmenta...   \n",
       "4   Diploma alchemysciences (1982), PhD in alchemy...   \n",
       "5   Diploma in physics (1987), PhD in atmospheric ...   \n",
       "6   Diploma in physical oceanography (1994), PhD i...   \n",
       "7   Diploma in meteorology (1983), PhD in oceanogr...   \n",
       "8    Diploma in geology (1994), PhD in geology (1997)   \n",
       "9   Diploma in oceanography (1996), Ph.D. in geosc...   \n",
       "10  Diploma in meteorology (1986), PhD in meteorol...   \n",
       "11  Diploma in oceanography (1990), PhD in oceanog...   \n",
       "12  Diploma in plant ecophysiology (1993), PhD in ...   \n",
       "13  Diploma in meteorology (1993), Ph.D. in meteor...   \n",
       "14  Diploma in theoretical physics (1994), PhD in ...   \n",
       "15  Diploma in theoretical mechanics (1985), PhD i...   \n",
       "\n",
       "                                                  url  \\\n",
       "0                                                       \n",
       "1                                                       \n",
       "2       http://www.pa.op.Partner 8.de/~RobertTorello/   \n",
       "3   http://www.pa.op.Partner 8.de/~PatrickUwe Voll...   \n",
       "4                                                       \n",
       "5   http://www.fz-juelich.de/SharedDocs/Personen/I...   \n",
       "6                            http://www.Partner 3.de/   \n",
       "7        http://www.Partner 3.de/index.php?id=mDikken   \n",
       "8   http://www.Partner 4-Mordor.de/en/section/basi...   \n",
       "9   http://www.Partner 4-Mordor.de/en/section/pyth...   \n",
       "10  http://www.service centre.de/about/team/062489...   \n",
       "11  http://www.Partner 5.de/institutes_platforms/c...   \n",
       "12  http://www.imk-ifu.Partner 6.edu/staff_Matthew...   \n",
       "13  https://www.imk-asf.Partner 6.edu/english/1732...   \n",
       "14        https://www.Partner 8.de/index.php?en=38085   \n",
       "15  http://www.Partner 8.de/index.php?en=34216; ww...   \n",
       "\n",
       "                                            expertise  \\\n",
       "0   Prof Blissis an expert in the analysis, modell...   \n",
       "1   Professor Ring's main expertise lies in Python...   \n",
       "2   Prof. Torello is an expert in Python, in coupl...   \n",
       "3   Dr. Uwe Vollmilch is an expert in global and r...   \n",
       "4   Wang Xang joined the research center in 1990 w...   \n",
       "5   Ylenia Zantedeschi has participated as a work ...   \n",
       "6   Andrew Blesswater has extensive experience in ...   \n",
       "7   Professor Dikken's expertise is in the fields ...   \n",
       "8   Professor Fighthorse is an expert in 3D integr...   \n",
       "9   Gloria Humodenaranja is an expert in the simul...   \n",
       "10  Prof. Igor Jens developed the regional Pythonm...   \n",
       "11  Prof. Lowtree is an expert in modeling regiona...   \n",
       "12  Matthew Neverblind has extensive experience in...   \n",
       "13  Oriana Puertaescondida  leads activities in th...   \n",
       "14  Prof Rottamatore is an expert in the analysis,...   \n",
       "15  Sonja Taller research interests are related to...   \n",
       "\n",
       "                                         publications  \\\n",
       "0   Bliss, T. et al., (2016): Advancing polar pred...   \n",
       "1   Sutter, J., et al., (2016): Ocean temperature ...   \n",
       "2   Frömming, C., Ponater, M., Dahlmann, K., Grewe...   \n",
       "3   Uwe Vollmilch, P. et al. (2016): Python Chemis...   \n",
       "4   Xang, H. et al (2016): Modeling Soil Processes...   \n",
       "5   Zantedeschi, R., Kunz, A., Hurst, D.F., Rolf, ...   \n",
       "6   Böning, C. W., Behrens, E., Blesswater, A., Ge...   \n",
       "7   Dikken, M. et al. (2015): Super El Niños in Re...   \n",
       "8   Cacace, M. and M. Fighthorse (2016): Why intra...   \n",
       "9   Irrgang, C., Saynisch, J. and M. Humodenaranja...   \n",
       "10  Prein, A.F. et al. (2016): Precipitation in th...   \n",
       "11  Lowtree, C.: Regional Pythonmodeling and air-s...   \n",
       "12  Knorr, W., Neverblind, A. and L. Jiang (2016):...   \n",
       "13  Kunze, M., Puertaescondida , P., Langematz, U....   \n",
       "14  Zech, A., Rottamatore S., Cvetkovic, V., Dagan...   \n",
       "15  Taller O., Shao H., Wang W. and S. Bauer (2016...   \n",
       "\n",
       "                name_notitle  \n",
       "0                 Abel Bliss  \n",
       "1                    Qi Ring  \n",
       "2           Stefania Torello  \n",
       "3              Uwe Vollmilch  \n",
       "4                  Wang Xang  \n",
       "5         Ylenia Zantedeschi  \n",
       "6          Andrew Blesswater  \n",
       "7             Claudia Dikken  \n",
       "8              Ed Fighthorse  \n",
       "9       Gloria Humodenaranja  \n",
       "10                 Igor Jens  \n",
       "11           Kristin Lowtree  \n",
       "12        Matthew Neverblind  \n",
       "13   Oriana Puertaescondida   \n",
       "14     Quasimodo Rottamatore  \n",
       "15              Sonja Taller  "
      ]
     },
     "execution_count": 20,
     "metadata": {},
     "output_type": "execute_result"
    }
   ],
   "source": [
    "df"
   ]
  },
  {
   "cell_type": "markdown",
   "metadata": {},
   "source": [
    "Now let's do something a bit more complicated - extract numerical information from the text. The task is to get the information about the leaders education. We have an `education` column, but it contain text with narrative description of when the person get diploma and PdD. We are interested just in the years themselves."
   ]
  },
  {
   "cell_type": "markdown",
   "metadata": {},
   "source": [
    "Here is our `education` column:"
   ]
  },
  {
   "cell_type": "code",
   "execution_count": 21,
   "metadata": {},
   "outputs": [
    {
     "data": {
      "text/plain": [
       "0      Diploma in physics (1996), PhD in physics (2000)\n",
       "1     Diploma in theoretical physics (1992), PhD in ...\n",
       "2     Diploma in physics (1979), PhD in meteorology ...\n",
       "3     Diploma in physics (1997), PhD in environmenta...\n",
       "4     Diploma alchemysciences (1982), PhD in alchemy...\n",
       "5     Diploma in physics (1987), PhD in atmospheric ...\n",
       "6     Diploma in physical oceanography (1994), PhD i...\n",
       "7     Diploma in meteorology (1983), PhD in oceanogr...\n",
       "8      Diploma in geology (1994), PhD in geology (1997)\n",
       "9     Diploma in oceanography (1996), Ph.D. in geosc...\n",
       "10    Diploma in meteorology (1986), PhD in meteorol...\n",
       "11    Diploma in oceanography (1990), PhD in oceanog...\n",
       "12    Diploma in plant ecophysiology (1993), PhD in ...\n",
       "13    Diploma in meteorology (1993), Ph.D. in meteor...\n",
       "14    Diploma in theoretical physics (1994), PhD in ...\n",
       "15    Diploma in theoretical mechanics (1985), PhD i...\n",
       "Name: education, dtype: object"
      ]
     },
     "execution_count": 21,
     "metadata": {},
     "output_type": "execute_result"
    }
   ],
   "source": [
    "df.education"
   ]
  },
  {
   "cell_type": "markdown",
   "metadata": {},
   "source": [
    "Usually the best way to extract this kind of information is to use regular expressions, but for starters we are going to use just a usuall string split/combine strategy:"
   ]
  },
  {
   "cell_type": "markdown",
   "metadata": {},
   "source": [
    "Every string in `education` can be splitted with `(` as a separator:"
   ]
  },
  {
   "cell_type": "code",
   "execution_count": 22,
   "metadata": {},
   "outputs": [
    {
     "data": {
      "text/plain": [
       "['Diploma in physics ', '1996), PhD in physics ', '2000)']"
      ]
     },
     "execution_count": 22,
     "metadata": {},
     "output_type": "execute_result"
    }
   ],
   "source": [
    "df.education.str.split('(')[0]"
   ]
  },
  {
   "cell_type": "markdown",
   "metadata": {},
   "source": [
    "We get three strings with second one containing the number (year of Diploma defence) we are interested in. We are going to select the second string and further split it, but with `)` sighn:"
   ]
  },
  {
   "cell_type": "code",
   "execution_count": 23,
   "metadata": {},
   "outputs": [
    {
     "data": {
      "text/plain": [
       "['1996', ', PhD in physics ']"
      ]
     },
     "execution_count": 23,
     "metadata": {},
     "output_type": "execute_result"
    }
   ],
   "source": [
    "df.education.str.split('(')[0][1].split(')')"
   ]
  },
  {
   "cell_type": "markdown",
   "metadata": {},
   "source": [
    "Now there are two strings and the first one is our year, we can just take it:"
   ]
  },
  {
   "cell_type": "code",
   "execution_count": 24,
   "metadata": {},
   "outputs": [
    {
     "data": {
      "text/plain": [
       "'1996'"
      ]
     },
     "execution_count": 24,
     "metadata": {},
     "output_type": "execute_result"
    }
   ],
   "source": [
    "df.education.str.split('(')[0][1].split(')')[0]"
   ]
  },
  {
   "cell_type": "markdown",
   "metadata": {},
   "source": [
    "Applying this to all rows in `education` column results in:"
   ]
  },
  {
   "cell_type": "code",
   "execution_count": 25,
   "metadata": {},
   "outputs": [
    {
     "data": {
      "text/plain": [
       "0     1996\n",
       "1     1992\n",
       "2     1979\n",
       "3     1997\n",
       "4     1982\n",
       "5     1987\n",
       "6     1994\n",
       "7     1983\n",
       "8     1994\n",
       "9     1996\n",
       "10    1986\n",
       "11    1990\n",
       "12    1993\n",
       "13    1993\n",
       "14    1994\n",
       "15    1985\n",
       "Name: education, dtype: object"
      ]
     },
     "execution_count": 25,
     "metadata": {},
     "output_type": "execute_result"
    }
   ],
   "source": [
    "df.education.str.split('(').str[1].str.split(')').str[0]"
   ]
  },
  {
   "cell_type": "markdown",
   "metadata": {},
   "source": [
    "We now can add a new column with the time of the Diploma thesis defence:"
   ]
  },
  {
   "cell_type": "code",
   "execution_count": 26,
   "metadata": {},
   "outputs": [],
   "source": [
    "df['diploma'] = df.education.str.split('(').str[1].str.split(')').str[0].astype('int')"
   ]
  },
  {
   "cell_type": "markdown",
   "metadata": {},
   "source": [
    "Now some analysis is possible, we can have a look when leaders defend their diplomas:"
   ]
  },
  {
   "cell_type": "code",
   "execution_count": 27,
   "metadata": {
    "scrolled": false
   },
   "outputs": [
    {
     "data": {
      "text/plain": [
       "(1970, 2010)"
      ]
     },
     "execution_count": 27,
     "metadata": {},
     "output_type": "execute_result"
    },
    {
     "data": {
      "image/png": "[encoded data removed]",
      "text/plain": [
       "<matplotlib.figure.Figure at 0x116dbed30>"
      ]
     },
     "metadata": {},
     "output_type": "display_data"
    }
   ],
   "source": [
    "df[['name_notitle', 'diploma']].plot(x='name_notitle', kind='bar')\n",
    "plt.ylim(1970, 2010)"
   ]
  },
  {
   "cell_type": "markdown",
   "metadata": {},
   "source": [
    "We can sort the names of the leader by the year they obtained thir diploma: "
   ]
  },
  {
   "cell_type": "code",
   "execution_count": 28,
   "metadata": {},
   "outputs": [
    {
     "data": {
      "text/plain": [
       "2             Stefania Torello\n",
       "4                    Wang Xang\n",
       "7               Claudia Dikken\n",
       "15                Sonja Taller\n",
       "10                   Igor Jens\n",
       "5           Ylenia Zantedeschi\n",
       "11             Kristin Lowtree\n",
       "1                      Qi Ring\n",
       "12          Matthew Neverblind\n",
       "13     Oriana Puertaescondida \n",
       "6            Andrew Blesswater\n",
       "8                Ed Fighthorse\n",
       "14       Quasimodo Rottamatore\n",
       "0                   Abel Bliss\n",
       "9         Gloria Humodenaranja\n",
       "3                Uwe Vollmilch\n",
       "Name: name_notitle, dtype: object"
      ]
     },
     "execution_count": 28,
     "metadata": {},
     "output_type": "execute_result"
    }
   ],
   "source": [
    "df.sort_values('diploma')['name_notitle']"
   ]
  },
  {
   "cell_type": "markdown",
   "metadata": {},
   "source": [
    "And plot it:"
   ]
  },
  {
   "cell_type": "code",
   "execution_count": 29,
   "metadata": {},
   "outputs": [
    {
     "data": {
      "text/plain": [
       "(1970, 2010)"
      ]
     },
     "execution_count": 29,
     "metadata": {},
     "output_type": "execute_result"
    },
    {
     "data": {
      "image/png": "[encoded data removed]",
      "text/plain": [
       "<matplotlib.figure.Figure at 0x116deb710>"
      ]
     },
     "metadata": {},
     "output_type": "display_data"
    }
   ],
   "source": [
    "df.sort_values('diploma')[['name_notitle', 'diploma']].plot(x='name_notitle', kind='bar')\n",
    "plt.ylim(1970, 2010)"
   ]
  },
  {
   "cell_type": "markdown",
   "metadata": {},
   "source": [
    "For the years of Phd defence we are going to use a bit more advance method, using [regular expressions](https://docs.python.org/3/howto/regex.html). In essence we are going to search for pattern in each string, and the pattern will be just any number of consequtive numbers, whic in our case can only be a year:"
   ]
  },
  {
   "cell_type": "code",
   "execution_count": 30,
   "metadata": {},
   "outputs": [],
   "source": [
    "years = df.education.str.extractall('(\\d+)')"
   ]
  },
  {
   "cell_type": "markdown",
   "metadata": {},
   "source": [
    "The resulting table below show occurencies of the number sequences and the numbers themselves. Note that for one of the project leaders we have 3 numbers, since `Venia Legendi` is also included:"
   ]
  },
  {
   "cell_type": "code",
   "execution_count": 31,
   "metadata": {},
   "outputs": [
    {
     "data": {
      "text/html": [
       "<div>\n",
       "<style>\n",
       "    .dataframe thead tr:only-child th {\n",
       "        text-align: right;\n",
       "    }\n",
       "\n",
       "    .dataframe thead th {\n",
       "        text-align: left;\n",
       "    }\n",
       "\n",
       "    .dataframe tbody tr th {\n",
       "        vertical-align: top;\n",
       "    }\n",
       "</style>\n",
       "<table border=\"1\" class=\"dataframe\">\n",
       "  <thead>\n",
       "    <tr style=\"text-align: right;\">\n",
       "      <th></th>\n",
       "      <th></th>\n",
       "      <th>0</th>\n",
       "    </tr>\n",
       "    <tr>\n",
       "      <th></th>\n",
       "      <th>match</th>\n",
       "      <th></th>\n",
       "    </tr>\n",
       "  </thead>\n",
       "  <tbody>\n",
       "    <tr>\n",
       "      <th rowspan=\"2\" valign=\"top\">0</th>\n",
       "      <th>0</th>\n",
       "      <td>1996</td>\n",
       "    </tr>\n",
       "    <tr>\n",
       "      <th>1</th>\n",
       "      <td>2000</td>\n",
       "    </tr>\n",
       "    <tr>\n",
       "      <th rowspan=\"2\" valign=\"top\">1</th>\n",
       "      <th>0</th>\n",
       "      <td>1992</td>\n",
       "    </tr>\n",
       "    <tr>\n",
       "      <th>1</th>\n",
       "      <td>1995</td>\n",
       "    </tr>\n",
       "    <tr>\n",
       "      <th rowspan=\"2\" valign=\"top\">2</th>\n",
       "      <th>0</th>\n",
       "      <td>1979</td>\n",
       "    </tr>\n",
       "    <tr>\n",
       "      <th>1</th>\n",
       "      <td>1983</td>\n",
       "    </tr>\n",
       "    <tr>\n",
       "      <th rowspan=\"2\" valign=\"top\">3</th>\n",
       "      <th>0</th>\n",
       "      <td>1997</td>\n",
       "    </tr>\n",
       "    <tr>\n",
       "      <th>1</th>\n",
       "      <td>2000</td>\n",
       "    </tr>\n",
       "    <tr>\n",
       "      <th rowspan=\"2\" valign=\"top\">4</th>\n",
       "      <th>0</th>\n",
       "      <td>1982</td>\n",
       "    </tr>\n",
       "    <tr>\n",
       "      <th>1</th>\n",
       "      <td>1988</td>\n",
       "    </tr>\n",
       "    <tr>\n",
       "      <th rowspan=\"2\" valign=\"top\">5</th>\n",
       "      <th>0</th>\n",
       "      <td>1987</td>\n",
       "    </tr>\n",
       "    <tr>\n",
       "      <th>1</th>\n",
       "      <td>1994</td>\n",
       "    </tr>\n",
       "    <tr>\n",
       "      <th rowspan=\"2\" valign=\"top\">6</th>\n",
       "      <th>0</th>\n",
       "      <td>1994</td>\n",
       "    </tr>\n",
       "    <tr>\n",
       "      <th>1</th>\n",
       "      <td>1998</td>\n",
       "    </tr>\n",
       "    <tr>\n",
       "      <th rowspan=\"2\" valign=\"top\">7</th>\n",
       "      <th>0</th>\n",
       "      <td>1983</td>\n",
       "    </tr>\n",
       "    <tr>\n",
       "      <th>1</th>\n",
       "      <td>1987</td>\n",
       "    </tr>\n",
       "    <tr>\n",
       "      <th rowspan=\"2\" valign=\"top\">8</th>\n",
       "      <th>0</th>\n",
       "      <td>1994</td>\n",
       "    </tr>\n",
       "    <tr>\n",
       "      <th>1</th>\n",
       "      <td>1997</td>\n",
       "    </tr>\n",
       "    <tr>\n",
       "      <th rowspan=\"2\" valign=\"top\">9</th>\n",
       "      <th>0</th>\n",
       "      <td>1996</td>\n",
       "    </tr>\n",
       "    <tr>\n",
       "      <th>1</th>\n",
       "      <td>2001</td>\n",
       "    </tr>\n",
       "    <tr>\n",
       "      <th rowspan=\"2\" valign=\"top\">10</th>\n",
       "      <th>0</th>\n",
       "      <td>1986</td>\n",
       "    </tr>\n",
       "    <tr>\n",
       "      <th>1</th>\n",
       "      <td>1991</td>\n",
       "    </tr>\n",
       "    <tr>\n",
       "      <th rowspan=\"2\" valign=\"top\">11</th>\n",
       "      <th>0</th>\n",
       "      <td>1990</td>\n",
       "    </tr>\n",
       "    <tr>\n",
       "      <th>1</th>\n",
       "      <td>1994</td>\n",
       "    </tr>\n",
       "    <tr>\n",
       "      <th rowspan=\"2\" valign=\"top\">12</th>\n",
       "      <th>0</th>\n",
       "      <td>1993</td>\n",
       "    </tr>\n",
       "    <tr>\n",
       "      <th>1</th>\n",
       "      <td>1998</td>\n",
       "    </tr>\n",
       "    <tr>\n",
       "      <th rowspan=\"2\" valign=\"top\">13</th>\n",
       "      <th>0</th>\n",
       "      <td>1993</td>\n",
       "    </tr>\n",
       "    <tr>\n",
       "      <th>1</th>\n",
       "      <td>1998</td>\n",
       "    </tr>\n",
       "    <tr>\n",
       "      <th rowspan=\"2\" valign=\"top\">14</th>\n",
       "      <th>0</th>\n",
       "      <td>1994</td>\n",
       "    </tr>\n",
       "    <tr>\n",
       "      <th>1</th>\n",
       "      <td>1997</td>\n",
       "    </tr>\n",
       "    <tr>\n",
       "      <th rowspan=\"3\" valign=\"top\">15</th>\n",
       "      <th>0</th>\n",
       "      <td>1985</td>\n",
       "    </tr>\n",
       "    <tr>\n",
       "      <th>1</th>\n",
       "      <td>1990</td>\n",
       "    </tr>\n",
       "    <tr>\n",
       "      <th>2</th>\n",
       "      <td>1996</td>\n",
       "    </tr>\n",
       "  </tbody>\n",
       "</table>\n",
       "</div>"
      ],
      "text/plain": [
       "             0\n",
       "   match      \n",
       "0  0      1996\n",
       "   1      2000\n",
       "1  0      1992\n",
       "   1      1995\n",
       "2  0      1979\n",
       "   1      1983\n",
       "3  0      1997\n",
       "   1      2000\n",
       "4  0      1982\n",
       "   1      1988\n",
       "5  0      1987\n",
       "   1      1994\n",
       "6  0      1994\n",
       "   1      1998\n",
       "7  0      1983\n",
       "   1      1987\n",
       "8  0      1994\n",
       "   1      1997\n",
       "9  0      1996\n",
       "   1      2001\n",
       "10 0      1986\n",
       "   1      1991\n",
       "11 0      1990\n",
       "   1      1994\n",
       "12 0      1993\n",
       "   1      1998\n",
       "13 0      1993\n",
       "   1      1998\n",
       "14 0      1994\n",
       "   1      1997\n",
       "15 0      1985\n",
       "   1      1990\n",
       "   2      1996"
      ]
     },
     "execution_count": 31,
     "metadata": {},
     "output_type": "execute_result"
    }
   ],
   "source": [
    "years"
   ]
  },
  {
   "cell_type": "markdown",
   "metadata": {},
   "source": [
    "We would need only the second number, which is the year of the PhD:"
   ]
  },
  {
   "cell_type": "code",
   "execution_count": 32,
   "metadata": {},
   "outputs": [
    {
     "data": {
      "text/html": [
       "<div>\n",
       "<style>\n",
       "    .dataframe thead tr:only-child th {\n",
       "        text-align: right;\n",
       "    }\n",
       "\n",
       "    .dataframe thead th {\n",
       "        text-align: left;\n",
       "    }\n",
       "\n",
       "    .dataframe tbody tr th {\n",
       "        vertical-align: top;\n",
       "    }\n",
       "</style>\n",
       "<table border=\"1\" class=\"dataframe\">\n",
       "  <thead>\n",
       "    <tr style=\"text-align: right;\">\n",
       "      <th></th>\n",
       "      <th>0</th>\n",
       "    </tr>\n",
       "  </thead>\n",
       "  <tbody>\n",
       "    <tr>\n",
       "      <th>0</th>\n",
       "      <td>2000</td>\n",
       "    </tr>\n",
       "    <tr>\n",
       "      <th>1</th>\n",
       "      <td>1995</td>\n",
       "    </tr>\n",
       "    <tr>\n",
       "      <th>2</th>\n",
       "      <td>1983</td>\n",
       "    </tr>\n",
       "    <tr>\n",
       "      <th>3</th>\n",
       "      <td>2000</td>\n",
       "    </tr>\n",
       "    <tr>\n",
       "      <th>4</th>\n",
       "      <td>1988</td>\n",
       "    </tr>\n",
       "    <tr>\n",
       "      <th>5</th>\n",
       "      <td>1994</td>\n",
       "    </tr>\n",
       "    <tr>\n",
       "      <th>6</th>\n",
       "      <td>1998</td>\n",
       "    </tr>\n",
       "    <tr>\n",
       "      <th>7</th>\n",
       "      <td>1987</td>\n",
       "    </tr>\n",
       "    <tr>\n",
       "      <th>8</th>\n",
       "      <td>1997</td>\n",
       "    </tr>\n",
       "    <tr>\n",
       "      <th>9</th>\n",
       "      <td>2001</td>\n",
       "    </tr>\n",
       "    <tr>\n",
       "      <th>10</th>\n",
       "      <td>1991</td>\n",
       "    </tr>\n",
       "    <tr>\n",
       "      <th>11</th>\n",
       "      <td>1994</td>\n",
       "    </tr>\n",
       "    <tr>\n",
       "      <th>12</th>\n",
       "      <td>1998</td>\n",
       "    </tr>\n",
       "    <tr>\n",
       "      <th>13</th>\n",
       "      <td>1998</td>\n",
       "    </tr>\n",
       "    <tr>\n",
       "      <th>14</th>\n",
       "      <td>1997</td>\n",
       "    </tr>\n",
       "    <tr>\n",
       "      <th>15</th>\n",
       "      <td>1990</td>\n",
       "    </tr>\n",
       "  </tbody>\n",
       "</table>\n",
       "</div>"
      ],
      "text/plain": [
       "       0\n",
       "0   2000\n",
       "1   1995\n",
       "2   1983\n",
       "3   2000\n",
       "4   1988\n",
       "5   1994\n",
       "6   1998\n",
       "7   1987\n",
       "8   1997\n",
       "9   2001\n",
       "10  1991\n",
       "11  1994\n",
       "12  1998\n",
       "13  1998\n",
       "14  1997\n",
       "15  1990"
      ]
     },
     "execution_count": 32,
     "metadata": {},
     "output_type": "execute_result"
    }
   ],
   "source": [
    "years.xs(1, level='match')"
   ]
  },
  {
   "cell_type": "markdown",
   "metadata": {},
   "source": [
    "Add new column to our DataFrame:"
   ]
  },
  {
   "cell_type": "code",
   "execution_count": 33,
   "metadata": {},
   "outputs": [],
   "source": [
    "df['phd'] = years.xs(1, level='match').astype('int')"
   ]
  },
  {
   "cell_type": "markdown",
   "metadata": {},
   "source": [
    "Do some useless analysis :)"
   ]
  },
  {
   "cell_type": "code",
   "execution_count": 34,
   "metadata": {},
   "outputs": [
    {
     "data": {
      "text/plain": [
       "(1970, 2010)"
      ]
     },
     "execution_count": 34,
     "metadata": {},
     "output_type": "execute_result"
    },
    {
     "data": {
      "image/png": "[encoded data removed]",
      "text/plain": [
       "<matplotlib.figure.Figure at 0x11a3d8588>"
      ]
     },
     "metadata": {},
     "output_type": "display_data"
    }
   ],
   "source": [
    "df[['name_notitle','diploma', 'phd']].plot(x='name_notitle', kind='bar')\n",
    "plt.ylim(1970, 2010)"
   ]
  },
  {
   "cell_type": "markdown",
   "metadata": {},
   "source": [
    "Sort:"
   ]
  },
  {
   "cell_type": "code",
   "execution_count": 35,
   "metadata": {},
   "outputs": [
    {
     "data": {
      "text/plain": [
       "<matplotlib.text.Text at 0x11a6a5c18>"
      ]
     },
     "execution_count": 35,
     "metadata": {},
     "output_type": "execute_result"
    },
    {
     "data": {
      "image/png": "[encoded data removed]",
      "text/plain": [
       "<matplotlib.figure.Figure at 0x11a65f5c0>"
      ]
     },
     "metadata": {},
     "output_type": "display_data"
    }
   ],
   "source": [
    "df.sort_values('phd')[['name_notitle', 'diploma', 'phd']].plot(x='name_notitle', kind='bar', figsize=(10,5))\n",
    "plt.ylim(1970, 2010)\n",
    "plt.xlabel('Name')\n",
    "plt.ylabel('Year')"
   ]
  },
  {
   "cell_type": "markdown",
   "metadata": {},
   "source": [
    "We can have a look at the difference between the year of Diploma and PhD defence:"
   ]
  },
  {
   "cell_type": "code",
   "execution_count": 36,
   "metadata": {},
   "outputs": [],
   "source": [
    "df['dpdiff'] = (df['phd']-df['diploma'])"
   ]
  },
  {
   "cell_type": "code",
   "execution_count": 37,
   "metadata": {},
   "outputs": [
    {
     "data": {
      "text/plain": [
       "<matplotlib.axes._subplots.AxesSubplot at 0x11a88a080>"
      ]
     },
     "execution_count": 37,
     "metadata": {},
     "output_type": "execute_result"
    },
    {
     "data": {
      "image/png": "[encoded data removed]",
      "text/plain": [
       "<matplotlib.figure.Figure at 0x11a8a47b8>"
      ]
     },
     "metadata": {},
     "output_type": "display_data"
    }
   ],
   "source": [
    "df.sort_values('dpdiff')[['name_notitle','dpdiff']].plot(x='name_notitle', kind='bar')"
   ]
  },
  {
   "cell_type": "markdown",
   "metadata": {},
   "source": [
    "Extract H-index, also using regular expressions:"
   ]
  },
  {
   "cell_type": "code",
   "execution_count": 38,
   "metadata": {},
   "outputs": [
    {
     "data": {
      "text/html": [
       "<div>\n",
       "<style>\n",
       "    .dataframe thead tr:only-child th {\n",
       "        text-align: right;\n",
       "    }\n",
       "\n",
       "    .dataframe thead th {\n",
       "        text-align: left;\n",
       "    }\n",
       "\n",
       "    .dataframe tbody tr th {\n",
       "        vertical-align: top;\n",
       "    }\n",
       "</style>\n",
       "<table border=\"1\" class=\"dataframe\">\n",
       "  <thead>\n",
       "    <tr style=\"text-align: right;\">\n",
       "      <th></th>\n",
       "      <th>0</th>\n",
       "    </tr>\n",
       "  </thead>\n",
       "  <tbody>\n",
       "    <tr>\n",
       "      <th>0</th>\n",
       "      <td>h-index of 25</td>\n",
       "    </tr>\n",
       "    <tr>\n",
       "      <th>1</th>\n",
       "      <td>h-index of 40</td>\n",
       "    </tr>\n",
       "    <tr>\n",
       "      <th>2</th>\n",
       "      <td>h-index of 40</td>\n",
       "    </tr>\n",
       "    <tr>\n",
       "      <th>3</th>\n",
       "      <td>h-index of 29</td>\n",
       "    </tr>\n",
       "    <tr>\n",
       "      <th>4</th>\n",
       "      <td>h-index of 41</td>\n",
       "    </tr>\n",
       "    <tr>\n",
       "      <th>5</th>\n",
       "      <td>h-index of 32</td>\n",
       "    </tr>\n",
       "    <tr>\n",
       "      <th>6</th>\n",
       "      <td>h-index of 24</td>\n",
       "    </tr>\n",
       "    <tr>\n",
       "      <th>7</th>\n",
       "      <td>h-index is 62</td>\n",
       "    </tr>\n",
       "    <tr>\n",
       "      <th>8</th>\n",
       "      <td>h-index of 22</td>\n",
       "    </tr>\n",
       "    <tr>\n",
       "      <th>9</th>\n",
       "      <td>h-index of 12</td>\n",
       "    </tr>\n",
       "    <tr>\n",
       "      <th>10</th>\n",
       "      <td>h-index of 33</td>\n",
       "    </tr>\n",
       "    <tr>\n",
       "      <th>11</th>\n",
       "      <td>h-index of 23</td>\n",
       "    </tr>\n",
       "    <tr>\n",
       "      <th>12</th>\n",
       "      <td>h-index of 42</td>\n",
       "    </tr>\n",
       "    <tr>\n",
       "      <th>13</th>\n",
       "      <td>h-index of 23</td>\n",
       "    </tr>\n",
       "    <tr>\n",
       "      <th>14</th>\n",
       "      <td>h-index of 20</td>\n",
       "    </tr>\n",
       "    <tr>\n",
       "      <th>15</th>\n",
       "      <td>h-index of 29</td>\n",
       "    </tr>\n",
       "  </tbody>\n",
       "</table>\n",
       "</div>"
      ],
      "text/plain": [
       "                0\n",
       "0   h-index of 25\n",
       "1   h-index of 40\n",
       "2   h-index of 40\n",
       "3   h-index of 29\n",
       "4   h-index of 41\n",
       "5   h-index of 32\n",
       "6   h-index of 24\n",
       "7   h-index is 62\n",
       "8   h-index of 22\n",
       "9   h-index of 12\n",
       "10  h-index of 33\n",
       "11  h-index of 23\n",
       "12  h-index of 42\n",
       "13  h-index of 23\n",
       "14  h-index of 20\n",
       "15  h-index of 29"
      ]
     },
     "execution_count": 38,
     "metadata": {},
     "output_type": "execute_result"
    }
   ],
   "source": [
    "df.expertise.str.extract('(h-index .. \\d{2,})', expand=True)"
   ]
  },
  {
   "cell_type": "markdown",
   "metadata": {},
   "source": [
    "Strip the text part, leaving only the number"
   ]
  },
  {
   "cell_type": "code",
   "execution_count": 39,
   "metadata": {},
   "outputs": [
    {
     "data": {
      "text/html": [
       "<div>\n",
       "<style>\n",
       "    .dataframe thead tr:only-child th {\n",
       "        text-align: right;\n",
       "    }\n",
       "\n",
       "    .dataframe thead th {\n",
       "        text-align: left;\n",
       "    }\n",
       "\n",
       "    .dataframe tbody tr th {\n",
       "        vertical-align: top;\n",
       "    }\n",
       "</style>\n",
       "<table border=\"1\" class=\"dataframe\">\n",
       "  <thead>\n",
       "    <tr style=\"text-align: right;\">\n",
       "      <th></th>\n",
       "      <th>0</th>\n",
       "    </tr>\n",
       "  </thead>\n",
       "  <tbody>\n",
       "    <tr>\n",
       "      <th>0</th>\n",
       "      <td>25</td>\n",
       "    </tr>\n",
       "    <tr>\n",
       "      <th>1</th>\n",
       "      <td>40</td>\n",
       "    </tr>\n",
       "    <tr>\n",
       "      <th>2</th>\n",
       "      <td>40</td>\n",
       "    </tr>\n",
       "    <tr>\n",
       "      <th>3</th>\n",
       "      <td>29</td>\n",
       "    </tr>\n",
       "    <tr>\n",
       "      <th>4</th>\n",
       "      <td>41</td>\n",
       "    </tr>\n",
       "    <tr>\n",
       "      <th>5</th>\n",
       "      <td>32</td>\n",
       "    </tr>\n",
       "    <tr>\n",
       "      <th>6</th>\n",
       "      <td>24</td>\n",
       "    </tr>\n",
       "    <tr>\n",
       "      <th>7</th>\n",
       "      <td>62</td>\n",
       "    </tr>\n",
       "    <tr>\n",
       "      <th>8</th>\n",
       "      <td>22</td>\n",
       "    </tr>\n",
       "    <tr>\n",
       "      <th>9</th>\n",
       "      <td>12</td>\n",
       "    </tr>\n",
       "    <tr>\n",
       "      <th>10</th>\n",
       "      <td>33</td>\n",
       "    </tr>\n",
       "    <tr>\n",
       "      <th>11</th>\n",
       "      <td>23</td>\n",
       "    </tr>\n",
       "    <tr>\n",
       "      <th>12</th>\n",
       "      <td>42</td>\n",
       "    </tr>\n",
       "    <tr>\n",
       "      <th>13</th>\n",
       "      <td>23</td>\n",
       "    </tr>\n",
       "    <tr>\n",
       "      <th>14</th>\n",
       "      <td>20</td>\n",
       "    </tr>\n",
       "    <tr>\n",
       "      <th>15</th>\n",
       "      <td>29</td>\n",
       "    </tr>\n",
       "  </tbody>\n",
       "</table>\n",
       "</div>"
      ],
      "text/plain": [
       "     0\n",
       "0   25\n",
       "1   40\n",
       "2   40\n",
       "3   29\n",
       "4   41\n",
       "5   32\n",
       "6   24\n",
       "7   62\n",
       "8   22\n",
       "9   12\n",
       "10  33\n",
       "11  23\n",
       "12  42\n",
       "13  23\n",
       "14  20\n",
       "15  29"
      ]
     },
     "execution_count": 39,
     "metadata": {},
     "output_type": "execute_result"
    }
   ],
   "source": [
    "df.expertise.str.extract('(h-index .. \\d{2,})', expand=True)[0].str.extract('(\\d+)', expand=True)"
   ]
  },
  {
   "cell_type": "markdown",
   "metadata": {},
   "source": [
    "Add it to the DataFrame"
   ]
  },
  {
   "cell_type": "code",
   "execution_count": 40,
   "metadata": {},
   "outputs": [],
   "source": [
    "df['h-index'] = df.expertise.str.extract('(h-index .. \\d{2,})', expand=True)[0].str.extract('(\\d+)', expand=True).astype('int')"
   ]
  },
  {
   "cell_type": "markdown",
   "metadata": {},
   "source": [
    "Have fun with some plots :)"
   ]
  },
  {
   "cell_type": "code",
   "execution_count": 41,
   "metadata": {},
   "outputs": [
    {
     "data": {
      "text/plain": [
       "<matplotlib.axes._subplots.AxesSubplot at 0x11aa49668>"
      ]
     },
     "execution_count": 41,
     "metadata": {},
     "output_type": "execute_result"
    },
    {
     "data": {
      "image/png": "[encoded data removed]",
      "text/plain": [
       "<matplotlib.figure.Figure at 0x11a189f98>"
      ]
     },
     "metadata": {},
     "output_type": "display_data"
    }
   ],
   "source": [
    "df.plot.scatter('phd','h-index')"
   ]
  },
  {
   "cell_type": "code",
   "execution_count": 42,
   "metadata": {},
   "outputs": [],
   "source": [
    "import seaborn as sns"
   ]
  },
  {
   "cell_type": "code",
   "execution_count": 43,
   "metadata": {},
   "outputs": [
    {
     "data": {
      "text/plain": [
       "<matplotlib.axes._subplots.AxesSubplot at 0x11c67b940>"
      ]
     },
     "execution_count": 43,
     "metadata": {},
     "output_type": "execute_result"
    },
    {
     "data": {
      "image/png": "[encoded data removed]",
      "text/plain": [
       "<matplotlib.figure.Figure at 0x11c67b0b8>"
      ]
     },
     "metadata": {},
     "output_type": "display_data"
    }
   ],
   "source": [
    "sns.regplot('phd','h-index', df)"
   ]
  },
  {
   "cell_type": "code",
   "execution_count": 44,
   "metadata": {},
   "outputs": [
    {
     "data": {
      "text/plain": [
       "<seaborn.axisgrid.JointGrid at 0x11c722240>"
      ]
     },
     "execution_count": 44,
     "metadata": {},
     "output_type": "execute_result"
    },
    {
     "data": {
      "image/png": "[encoded data removed]",
      "text/plain": [
       "<matplotlib.figure.Figure at 0x11c722080>"
      ]
     },
     "metadata": {},
     "output_type": "display_data"
    }
   ],
   "source": [
    "sns.jointplot('phd','h-index', df, )"
   ]
  },
  {
   "cell_type": "code",
   "execution_count": null,
   "metadata": {},
   "outputs": [],
   "source": []
  },
  {
   "cell_type": "code",
   "execution_count": null,
   "metadata": {},
   "outputs": [],
   "source": []
  }
 ],
 "metadata": {
  "kernelspec": {
   "display_name": "Python 3",
   "language": "python",
   "name": "python3"
  },
  "language_info": {
   "codemirror_mode": {
    "name": "ipython",
    "version": 3
   },
   "file_extension": ".py",
   "mimetype": "text/x-python",
   "name": "python",
   "nbconvert_exporter": "python",
   "pygments_lexer": "ipython3",
   "version": "3.6.1"
  }
 },
 "nbformat": 4,
 "nbformat_minor": 1
}
