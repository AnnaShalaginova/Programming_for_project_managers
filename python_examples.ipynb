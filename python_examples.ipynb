{
 "cells": [
  {
   "cell_type": "markdown",
   "metadata": {},
   "source": [
    "## Example 1"
   ]
  },
  {
   "cell_type": "code",
   "execution_count": null,
   "metadata": {},
   "outputs": [],
   "source": [
    "name = 'lastname firstname'\n",
    "name_split = name.split()\n",
    "(name_split[1]+' '+name_split[0]).title()"
   ]
  },
  {
   "cell_type": "code",
   "execution_count": null,
   "metadata": {},
   "outputs": [],
   "source": [
    "name = 'lastname firstname'\n",
    "name_split = name.split()\n",
    "name_result = (name_split[1]+' '+name_split[0]). title()\n",
    "print(\"Processed name: \"+ name_result)"
   ]
  },
  {
   "cell_type": "markdown",
   "metadata": {},
   "source": [
    "Good introduction to python strings can be found at https://developers.google.com/edu/python/strings"
   ]
  },
  {
   "cell_type": "markdown",
   "metadata": {},
   "source": [
    "## Exmaple 2"
   ]
  },
  {
   "cell_type": "code",
   "execution_count": null,
   "metadata": {},
   "outputs": [],
   "source": [
    "names = ['rhodes marie', 'key sarah', 'christensen joe']\n",
    "for name in names:\n",
    "    name_split = name.split()\n",
    "    name_result = (name_split[1]+' '+name_split[0]). title()\n",
    "    print(\"Processed name: \"+ name_result)"
   ]
  },
  {
   "cell_type": "markdown",
   "metadata": {},
   "source": [
    "Similar axample but with larger number of names and with some names having the same given or last name. "
   ]
  },
  {
   "cell_type": "code",
   "execution_count": null,
   "metadata": {},
   "outputs": [],
   "source": [
    "names = ['rhodes marie', \n",
    "         'key sarah', \n",
    "         'christensen joe', \n",
    "         'key joe', \n",
    "         'cowley neil', \n",
    "         'wortham maile',\n",
    "         'wortham neva',\n",
    "         'forrest audria',\n",
    "         'heuser neva',\n",
    "         'garbutt melodie',\n",
    "         'schroth elisa',\n",
    "         'hepp catalina',\n",
    "         'calvillo yoshie',\n",
    "         'caiazzo rodolfo',\n",
    "         'gusman inocencia',\n",
    "         'pinedo florencia',\n",
    "         'arora donette',\n",
    "         'spainhour clarita',\n",
    "         'biondo mikaela',\n",
    "         'fetty france',\n",
    "         'ham phylicia',\n",
    "         'bodner leilani',\n",
    "         'spengler xiomara',\n",
    "         'busse janice',\n",
    "         'kalina roselee',\n",
    "         'linden lyla']\n",
    "for name in names:\n",
    "    name_split = name.split()\n",
    "    name_result = (name_split[1]+' '+name_split[0]). title()\n",
    "    print(\"Processed name: \"+ name_result)"
   ]
  },
  {
   "cell_type": "markdown",
   "metadata": {},
   "source": [
    "## Example 3"
   ]
  },
  {
   "cell_type": "code",
   "execution_count": null,
   "metadata": {},
   "outputs": [],
   "source": [
    "import pandas"
   ]
  },
  {
   "cell_type": "code",
   "execution_count": null,
   "metadata": {},
   "outputs": [],
   "source": [
    "names = pandas.read_excel('./names.xlsx')"
   ]
  },
  {
   "cell_type": "code",
   "execution_count": null,
   "metadata": {},
   "outputs": [],
   "source": [
    "names"
   ]
  },
  {
   "cell_type": "code",
   "execution_count": null,
   "metadata": {},
   "outputs": [],
   "source": [
    "names['Last name'] = 'DR '+ names['Last name'].str.upper()"
   ]
  },
  {
   "cell_type": "code",
   "execution_count": null,
   "metadata": {},
   "outputs": [],
   "source": [
    "names['First name'] = names['First name'].str.capitalize()"
   ]
  },
  {
   "cell_type": "code",
   "execution_count": null,
   "metadata": {},
   "outputs": [],
   "source": [
    "names"
   ]
  },
  {
   "cell_type": "code",
   "execution_count": null,
   "metadata": {},
   "outputs": [],
   "source": [
    "names = names[['First name', 'Last name']]"
   ]
  },
  {
   "cell_type": "code",
   "execution_count": null,
   "metadata": {},
   "outputs": [],
   "source": [
    "names"
   ]
  },
  {
   "cell_type": "markdown",
   "metadata": {},
   "source": [
    "Final code put together"
   ]
  },
  {
   "cell_type": "code",
   "execution_count": null,
   "metadata": {},
   "outputs": [],
   "source": [
    "import pandas\n",
    "names = pandas.read_excel('./names.xlsx')\n",
    "names['Last name'] = 'DR '+ names['Last name'].str.upper()\n",
    "names['First name'] = names['First name'].str.capitalize()\n",
    "names = names[['First name', 'Last name']]\n",
    "\n",
    "writer = pandas.ExcelWriter('names_processed.xlsx')\n",
    "names.to_excel(writer, 'Sheet1')\n",
    "writer.close()\n"
   ]
  },
  {
   "cell_type": "markdown",
   "metadata": {},
   "source": [
    "## Example 4"
   ]
  },
  {
   "cell_type": "code",
   "execution_count": null,
   "metadata": {},
   "outputs": [],
   "source": [
    "f = open('./names.txt')\n",
    "firstnames = []\n",
    "lastnames  = []\n",
    "for line in f.readlines():\n",
    "    if line.startswith('LN'):\n",
    "        lastnames.append(line.split()[1])\n",
    "    elif line.startswith('FN'):\n",
    "        firstnames.append(line.split()[1])\n",
    "    else:\n",
    "        pass\n",
    "f.close()    "
   ]
  },
  {
   "cell_type": "code",
   "execution_count": null,
   "metadata": {},
   "outputs": [],
   "source": [
    "firstnames"
   ]
  },
  {
   "cell_type": "code",
   "execution_count": null,
   "metadata": {},
   "outputs": [],
   "source": [
    "lastnames"
   ]
  },
  {
   "cell_type": "markdown",
   "metadata": {},
   "source": [
    "## Example 5"
   ]
  },
  {
   "cell_type": "code",
   "execution_count": null,
   "metadata": {},
   "outputs": [],
   "source": [
    "import numpy\n",
    "numpy.set_printoptions(precision=3 , suppress= True) # this is just to make the output look better\n"
   ]
  },
  {
   "cell_type": "code",
   "execution_count": null,
   "metadata": {},
   "outputs": [],
   "source": [
    "numbers = numpy.loadtxt('./numpers.txt')"
   ]
  },
  {
   "cell_type": "code",
   "execution_count": null,
   "metadata": {},
   "outputs": [],
   "source": [
    "numbers"
   ]
  },
  {
   "cell_type": "code",
   "execution_count": null,
   "metadata": {},
   "outputs": [],
   "source": [
    "reshaped = numbers.reshape(3,3)\n",
    "reshaped"
   ]
  },
  {
   "cell_type": "code",
   "execution_count": null,
   "metadata": {},
   "outputs": [],
   "source": [
    "reshaped[:,2].mean()"
   ]
  },
  {
   "cell_type": "markdown",
   "metadata": {},
   "source": [
    "Final code put together"
   ]
  },
  {
   "cell_type": "code",
   "execution_count": null,
   "metadata": {},
   "outputs": [],
   "source": [
    "import numpy\n",
    "numbers = numpy.loadtxt('./numpers.txt')\n",
    "reshaped = numbers.reshape(3,3)\n",
    "reshaped[:,2].mean()"
   ]
  },
  {
   "cell_type": "code",
   "execution_count": null,
   "metadata": {},
   "outputs": [],
   "source": []
  },
  {
   "cell_type": "code",
   "execution_count": null,
   "metadata": {},
   "outputs": [],
   "source": []
  },
  {
   "cell_type": "code",
   "execution_count": null,
   "metadata": {},
   "outputs": [],
   "source": []
  },
  {
   "cell_type": "code",
   "execution_count": null,
   "metadata": {},
   "outputs": [],
   "source": []
  }
 ],
 "metadata": {
  "kernelspec": {
   "display_name": "Python 3",
   "language": "python",
   "name": "python3"
  },
  "language_info": {
   "codemirror_mode": {
    "name": "ipython",
    "version": 3
   },
   "file_extension": ".py",
   "mimetype": "text/x-python",
   "name": "python",
   "nbconvert_exporter": "python",
   "pygments_lexer": "ipython3",
   "version": "3.6.1"
  }
 },
 "nbformat": 4,
 "nbformat_minor": 2
}
